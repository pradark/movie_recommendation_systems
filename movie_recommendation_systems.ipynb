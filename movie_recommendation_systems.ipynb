{
 "cells": [
  {
   "cell_type": "markdown",
   "metadata": {},
   "source": [
    "### Movie Recommender System\n",
    "\n",
    "The goal of this exercise is to develop a recommender system for movies. \n",
    "\n",
    "https://www.kaggle.com/code/ibtesama/getting-started-with-a-movie-recommendation-system\n",
    "\n",
    "We will explore different recommendation techniques for building our recommendation systems\n",
    "\n",
    "<div>\n",
    "<img src=\"images/Content-based-filtering-vs-Collaborative-filtering-Source.png\" width=\"500\"/>\n",
    "</div>\n",
    "\n",
    "Content Based Filtering:\n",
    "Here we make use of user level information such as geners, plot, director, cast etc to make recommendations. Since it is directly uses the contents of one movie to generate a recommendation set, it is called as content based recommendation.\n",
    "\n",
    "Collaborative Filtering:\n",
    "In Collaborative Filtering, we make use of movie viewers vs movie titles utility matrix, with movie ratings as the values. We create a 2-D utility matrix containing movie viewers on one dimension and movie titles on the other. We find similarity between the viewers and movies and recommend movies based on the similarity. This is a type of neighborhood based recommender.\n"
   ]
  },
  {
   "cell_type": "markdown",
   "metadata": {},
   "source": [
    "### About the data\n",
    "\n",
    "The movies dataset is available for download on Kaggle website @ https://www.kaggle.com/datasets/rounakbanik/the-movies-dataset\n",
    "\n",
    "credits.csv - This includes details on cast, crew\n",
    "\n",
    "keywords.csv - Keywords associated with the movies\n",
    "\n",
    "links.csv - This dataset matches the keys between movie id, IMDB id and TMDB ID\n",
    "\n",
    "links_small.csv - A smaller data set of the links.csv file. This dataset matches the keys between movie id, IMDB id and TMDB ID\n",
    "\n",
    "movies_metadata.csv - This consists of dat on movies details such as year, movie collections, genre, title, budget, revenue, popularity rations, view counts, average ratings etc\n",
    "\n",
    "ratings_small.csv - This contains viwers id, their ratings of movies\n"
   ]
  },
  {
   "cell_type": "markdown",
   "metadata": {},
   "source": [
    "### Libraries"
   ]
  },
  {
   "cell_type": "code",
   "execution_count": 1,
   "metadata": {
    "tags": []
   },
   "outputs": [],
   "source": [
    "%matplotlib inline\n",
    "import pandas as pd\n",
    "import numpy as np\n",
    "import matplotlib.pyplot as plt\n",
    "import seaborn as sns\n",
    "from scipy import stats\n",
    "from ast import literal_eval\n",
    "from sklearn.feature_extraction.text import TfidfVectorizer, CountVectorizer\n",
    "from sklearn.metrics.pairwise import linear_kernel, cosine_similarity\n",
    "from nltk.stem.snowball import SnowballStemmer\n",
    "from nltk.stem.wordnet import WordNetLemmatizer\n",
    "from nltk.corpus import wordnet\n",
    "from surprise import Reader, Dataset, SVD, accuracy\n",
    "from surprise.model_selection import cross_validate,train_test_split\n",
    "\n",
    "import warnings; warnings.simplefilter('ignore')\n",
    "\n",
    "pd.options.display.max_colwidth = 50"
   ]
  },
  {
   "cell_type": "code",
   "execution_count": 2,
   "metadata": {
    "tags": []
   },
   "outputs": [
    {
     "name": "stdout",
     "output_type": "stream",
     "text": [
      "/home/jupyter/recommendation_systems/movie_recommender\n"
     ]
    }
   ],
   "source": [
    "!pwd"
   ]
  },
  {
   "cell_type": "code",
   "execution_count": 3,
   "metadata": {
    "tags": []
   },
   "outputs": [],
   "source": [
    "#read movie data\n",
    "df_movies_metadata=pd. read_csv('/home/jupyter/recommendation_systems/movie_recommender/input/movies_metadata.csv')"
   ]
  },
  {
   "cell_type": "code",
   "execution_count": 4,
   "metadata": {
    "tags": []
   },
   "outputs": [],
   "source": [
    "df_credits = pd.read_csv('/home/jupyter/recommendation_systems/movie_recommender/input/credits.csv')\n",
    "df_keywords = pd.read_csv('/home/jupyter/recommendation_systems/movie_recommender/input/keywords.csv')"
   ]
  },
  {
   "cell_type": "code",
   "execution_count": 5,
   "metadata": {
    "tags": []
   },
   "outputs": [],
   "source": [
    "df_keywords['id'] = df_keywords['id'].astype('int')\n",
    "df_credits['id'] = df_credits['id'].astype('int')\n",
    "df_movies_metadata = df_movies_metadata[~df_movies_metadata['id'].str.contains('-')]\n",
    "df_movies_metadata['id'] = df_movies_metadata['id'].astype('int')"
   ]
  },
  {
   "cell_type": "code",
   "execution_count": 6,
   "metadata": {
    "tags": []
   },
   "outputs": [],
   "source": [
    "df_movies_metadata = df_movies_metadata.merge(df_credits, on='id')\n",
    "df_movies_metadata = df_movies_metadata.merge(df_keywords, on='id')"
   ]
  },
  {
   "cell_type": "code",
   "execution_count": 7,
   "metadata": {
    "tags": []
   },
   "outputs": [
    {
     "data": {
      "text/html": [
       "<div>\n",
       "<style scoped>\n",
       "    .dataframe tbody tr th:only-of-type {\n",
       "        vertical-align: middle;\n",
       "    }\n",
       "\n",
       "    .dataframe tbody tr th {\n",
       "        vertical-align: top;\n",
       "    }\n",
       "\n",
       "    .dataframe thead th {\n",
       "        text-align: right;\n",
       "    }\n",
       "</style>\n",
       "<table border=\"1\" class=\"dataframe\">\n",
       "  <thead>\n",
       "    <tr style=\"text-align: right;\">\n",
       "      <th></th>\n",
       "      <th>adult</th>\n",
       "      <th>belongs_to_collection</th>\n",
       "      <th>budget</th>\n",
       "      <th>genres</th>\n",
       "      <th>homepage</th>\n",
       "      <th>id</th>\n",
       "      <th>imdb_id</th>\n",
       "      <th>original_language</th>\n",
       "      <th>original_title</th>\n",
       "      <th>overview</th>\n",
       "      <th>...</th>\n",
       "      <th>spoken_languages</th>\n",
       "      <th>status</th>\n",
       "      <th>tagline</th>\n",
       "      <th>title</th>\n",
       "      <th>video</th>\n",
       "      <th>vote_average</th>\n",
       "      <th>vote_count</th>\n",
       "      <th>cast</th>\n",
       "      <th>crew</th>\n",
       "      <th>keywords</th>\n",
       "    </tr>\n",
       "  </thead>\n",
       "  <tbody>\n",
       "    <tr>\n",
       "      <th>0</th>\n",
       "      <td>False</td>\n",
       "      <td>{'id': 10194, 'name': 'Toy Story Collection', ...</td>\n",
       "      <td>30000000</td>\n",
       "      <td>[{'id': 16, 'name': 'Animation'}, {'id': 35, '...</td>\n",
       "      <td>http://toystory.disney.com/toy-story</td>\n",
       "      <td>862</td>\n",
       "      <td>tt0114709</td>\n",
       "      <td>en</td>\n",
       "      <td>Toy Story</td>\n",
       "      <td>Led by Woody, Andy's toys live happily in his ...</td>\n",
       "      <td>...</td>\n",
       "      <td>[{'iso_639_1': 'en', 'name': 'English'}]</td>\n",
       "      <td>Released</td>\n",
       "      <td>NaN</td>\n",
       "      <td>Toy Story</td>\n",
       "      <td>False</td>\n",
       "      <td>7.7</td>\n",
       "      <td>5415.0</td>\n",
       "      <td>[{'cast_id': 14, 'character': 'Woody (voice)',...</td>\n",
       "      <td>[{'credit_id': '52fe4284c3a36847f8024f49', 'de...</td>\n",
       "      <td>[{'id': 931, 'name': 'jealousy'}, {'id': 4290,...</td>\n",
       "    </tr>\n",
       "  </tbody>\n",
       "</table>\n",
       "<p>1 rows × 27 columns</p>\n",
       "</div>"
      ],
      "text/plain": [
       "   adult                              belongs_to_collection    budget  \\\n",
       "0  False  {'id': 10194, 'name': 'Toy Story Collection', ...  30000000   \n",
       "\n",
       "                                              genres  \\\n",
       "0  [{'id': 16, 'name': 'Animation'}, {'id': 35, '...   \n",
       "\n",
       "                               homepage   id    imdb_id original_language  \\\n",
       "0  http://toystory.disney.com/toy-story  862  tt0114709                en   \n",
       "\n",
       "  original_title                                           overview  ...  \\\n",
       "0      Toy Story  Led by Woody, Andy's toys live happily in his ...  ...   \n",
       "\n",
       "                           spoken_languages    status tagline      title  \\\n",
       "0  [{'iso_639_1': 'en', 'name': 'English'}]  Released     NaN  Toy Story   \n",
       "\n",
       "   video  vote_average  vote_count  \\\n",
       "0  False           7.7      5415.0   \n",
       "\n",
       "                                                cast  \\\n",
       "0  [{'cast_id': 14, 'character': 'Woody (voice)',...   \n",
       "\n",
       "                                                crew  \\\n",
       "0  [{'credit_id': '52fe4284c3a36847f8024f49', 'de...   \n",
       "\n",
       "                                            keywords  \n",
       "0  [{'id': 931, 'name': 'jealousy'}, {'id': 4290,...  \n",
       "\n",
       "[1 rows x 27 columns]"
      ]
     },
     "execution_count": 7,
     "metadata": {},
     "output_type": "execute_result"
    }
   ],
   "source": [
    "df_movies_metadata.head(1)"
   ]
  },
  {
   "cell_type": "code",
   "execution_count": 8,
   "metadata": {
    "tags": []
   },
   "outputs": [
    {
     "data": {
      "text/plain": [
       "(46628, 27)"
      ]
     },
     "execution_count": 8,
     "metadata": {},
     "output_type": "execute_result"
    }
   ],
   "source": [
    "df_movies_metadata.shape"
   ]
  },
  {
   "cell_type": "code",
   "execution_count": 9,
   "metadata": {
    "tags": []
   },
   "outputs": [],
   "source": [
    "df_movies_metadata['year'] = pd.to_datetime(df_movies_metadata['release_date'], errors='coerce').apply(lambda x: str(x).split('-')[0] if x != np.nan else np.nan)"
   ]
  },
  {
   "cell_type": "markdown",
   "metadata": {},
   "source": [
    "### Recommendation based on IMDB Rating\n",
    "\n",
    "Below we shall develop a popularity based recommender which can be used to display in the trending section of the \"Netflix\" like website.\n",
    "\n",
    "The formula for calculating the weighted average rating is given as:\n",
    "\n",
    "weighted rating (WR) = (v ÷ (v+m)) × R + (m ÷ (v+m)) × C where:\n",
    "\n",
    "R = average for the movie (mean) = (Rating)\\\n",
    "v = number of votes for the movie = (votes)\\\n",
    "m = minimum votes required to be listed in the Top 250\\\n",
    "C = the mean vote across the whole report\n",
    "\n",
    "We already have v(vote_count) and R (vote_average) and C can be calculated as"
   ]
  },
  {
   "cell_type": "code",
   "execution_count": 10,
   "metadata": {
    "tags": []
   },
   "outputs": [],
   "source": [
    "df_movies_metadata['genres1'] = [[genres_item['name'] for genres_item in literal_eval(genres_list)] for genres_list in df_movies_metadata[\"genres\"]]"
   ]
  },
  {
   "cell_type": "code",
   "execution_count": 11,
   "metadata": {
    "tags": []
   },
   "outputs": [
    {
     "data": {
      "text/plain": [
       "0     [Animation, Comedy, Family]\n",
       "1    [Adventure, Fantasy, Family]\n",
       "2               [Romance, Comedy]\n",
       "3        [Comedy, Drama, Romance]\n",
       "4                        [Comedy]\n",
       "Name: genres1, dtype: object"
      ]
     },
     "execution_count": 11,
     "metadata": {},
     "output_type": "execute_result"
    }
   ],
   "source": [
    "df_movies_metadata['genres1'].head()"
   ]
  },
  {
   "cell_type": "code",
   "execution_count": 12,
   "metadata": {
    "tags": []
   },
   "outputs": [
    {
     "data": {
      "text/plain": [
       "<AxesSubplot:ylabel='Frequency'>"
      ]
     },
     "execution_count": 12,
     "metadata": {},
     "output_type": "execute_result"
    },
    {
     "data": {
      "image/png": "[encoded data removed]",
      "text/plain": [
       "<Figure size 432x288 with 1 Axes>"
      ]
     },
     "metadata": {
      "needs_background": "light"
     },
     "output_type": "display_data"
    }
   ],
   "source": [
    "#Here is the count histogram of the average ratings\n",
    "df_movies_metadata['vote_average'].plot.hist()"
   ]
  },
  {
   "cell_type": "code",
   "execution_count": 13,
   "metadata": {
    "tags": []
   },
   "outputs": [
    {
     "data": {
      "text/plain": [
       "5.238696808510638"
      ]
     },
     "execution_count": 13,
     "metadata": {},
     "output_type": "execute_result"
    }
   ],
   "source": [
    "#Mean rating C is calculated as\n",
    "# C= df_movies_metadata['vote_average'].mean()\n",
    "# C\n",
    "\n",
    "vote_counts = df_movies_metadata[df_movies_metadata['vote_count'].notnull()]['vote_count'].astype('int')\n",
    "vote_averages = df_movies_metadata[df_movies_metadata['vote_average'].notnull()]['vote_average'].astype('int')\n",
    "C = vote_averages.mean()\n",
    "C"
   ]
  },
  {
   "cell_type": "markdown",
   "metadata": {},
   "source": [
    "The mean rating for all the movies is approx 6 on a scale of 10. \n",
    "\n",
    "The next step is to determine an appropriate value for m, the minimum votes required to be listed in the chart. We will use 90th percentile as our cutoff. In other words, for a movie to feature in the charts, it must have more votes than at least 90% of the movies in the list."
   ]
  },
  {
   "cell_type": "code",
   "execution_count": 14,
   "metadata": {
    "tags": []
   },
   "outputs": [
    {
     "name": "stdout",
     "output_type": "stream",
     "text": [
      "minimum votes required to be listed in the Top 250  156.0\n"
     ]
    },
    {
     "data": {
      "text/plain": [
       "(4680, 29)"
      ]
     },
     "execution_count": 14,
     "metadata": {},
     "output_type": "execute_result"
    }
   ],
   "source": [
    "#We will chose 90th quantile which gives the minimum number of votes of 1838 to make it into the top charts\n",
    "m = df_movies_metadata['vote_count'].quantile(.9)\n",
    "print(\"minimum votes required to be listed in the Top 250 \",m)\n",
    "top_chart_movies = df_movies_metadata[((df_movies_metadata['vote_count']) >= m) & (df_movies_metadata['vote_count'].notnull()) & (df_movies_metadata['vote_average'].notnull()) ]\n",
    "top_chart_movies.shape"
   ]
  },
  {
   "cell_type": "code",
   "execution_count": 15,
   "metadata": {
    "tags": []
   },
   "outputs": [],
   "source": [
    "#Function for scoring the weighted rating\n",
    "def weighted_rating(df):\n",
    "    v = df['vote_count']\n",
    "    R = df['vote_average']\n",
    "    return (v/(v+m) * R) + (m/(m+v) * C)"
   ]
  },
  {
   "cell_type": "code",
   "execution_count": 16,
   "metadata": {
    "tags": []
   },
   "outputs": [],
   "source": [
    "top_chart_movies['wt_ratings'] = round(top_chart_movies.apply(weighted_rating, axis=1),1)"
   ]
  },
  {
   "cell_type": "code",
   "execution_count": 17,
   "metadata": {
    "tags": []
   },
   "outputs": [
    {
     "data": {
      "text/html": [
       "<div>\n",
       "<style scoped>\n",
       "    .dataframe tbody tr th:only-of-type {\n",
       "        vertical-align: middle;\n",
       "    }\n",
       "\n",
       "    .dataframe tbody tr th {\n",
       "        vertical-align: top;\n",
       "    }\n",
       "\n",
       "    .dataframe thead th {\n",
       "        text-align: right;\n",
       "    }\n",
       "</style>\n",
       "<table border=\"1\" class=\"dataframe\">\n",
       "  <thead>\n",
       "    <tr style=\"text-align: right;\">\n",
       "      <th></th>\n",
       "      <th>title</th>\n",
       "      <th>vote_count</th>\n",
       "      <th>vote_average</th>\n",
       "      <th>popularity</th>\n",
       "      <th>genres1</th>\n",
       "      <th>wt_ratings</th>\n",
       "    </tr>\n",
       "  </thead>\n",
       "  <tbody>\n",
       "    <tr>\n",
       "      <th>10397</th>\n",
       "      <td>Dilwale Dulhania Le Jayenge</td>\n",
       "      <td>661.0</td>\n",
       "      <td>9.1</td>\n",
       "      <td>34.457024</td>\n",
       "      <td>[Comedy, Drama, Romance]</td>\n",
       "      <td>8.4</td>\n",
       "    </tr>\n",
       "    <tr>\n",
       "      <th>841</th>\n",
       "      <td>The Godfather</td>\n",
       "      <td>6024.0</td>\n",
       "      <td>8.5</td>\n",
       "      <td>41.109264</td>\n",
       "      <td>[Drama, Crime]</td>\n",
       "      <td>8.4</td>\n",
       "    </tr>\n",
       "    <tr>\n",
       "      <th>314</th>\n",
       "      <td>The Shawshank Redemption</td>\n",
       "      <td>8358.0</td>\n",
       "      <td>8.5</td>\n",
       "      <td>51.645403</td>\n",
       "      <td>[Drama, Crime]</td>\n",
       "      <td>8.4</td>\n",
       "    </tr>\n",
       "    <tr>\n",
       "      <th>12589</th>\n",
       "      <td>The Dark Knight</td>\n",
       "      <td>12269.0</td>\n",
       "      <td>8.3</td>\n",
       "      <td>123.167259</td>\n",
       "      <td>[Drama, Action, Crime, Thriller]</td>\n",
       "      <td>8.3</td>\n",
       "    </tr>\n",
       "    <tr>\n",
       "      <th>2870</th>\n",
       "      <td>Fight Club</td>\n",
       "      <td>9678.0</td>\n",
       "      <td>8.3</td>\n",
       "      <td>63.869599</td>\n",
       "      <td>[Drama]</td>\n",
       "      <td>8.3</td>\n",
       "    </tr>\n",
       "    <tr>\n",
       "      <th>292</th>\n",
       "      <td>Pulp Fiction</td>\n",
       "      <td>8670.0</td>\n",
       "      <td>8.3</td>\n",
       "      <td>140.950236</td>\n",
       "      <td>[Thriller, Crime]</td>\n",
       "      <td>8.2</td>\n",
       "    </tr>\n",
       "    <tr>\n",
       "      <th>2231</th>\n",
       "      <td>Life Is Beautiful</td>\n",
       "      <td>3643.0</td>\n",
       "      <td>8.3</td>\n",
       "      <td>39.39497</td>\n",
       "      <td>[Comedy, Drama]</td>\n",
       "      <td>8.2</td>\n",
       "    </tr>\n",
       "    <tr>\n",
       "      <th>1199</th>\n",
       "      <td>The Godfather: Part II</td>\n",
       "      <td>3418.0</td>\n",
       "      <td>8.3</td>\n",
       "      <td>36.629307</td>\n",
       "      <td>[Drama, Crime]</td>\n",
       "      <td>8.2</td>\n",
       "    </tr>\n",
       "    <tr>\n",
       "      <th>5529</th>\n",
       "      <td>Spirited Away</td>\n",
       "      <td>3968.0</td>\n",
       "      <td>8.3</td>\n",
       "      <td>41.048867</td>\n",
       "      <td>[Fantasy, Adventure, Animation, Family]</td>\n",
       "      <td>8.2</td>\n",
       "    </tr>\n",
       "    <tr>\n",
       "      <th>23868</th>\n",
       "      <td>Whiplash</td>\n",
       "      <td>4376.0</td>\n",
       "      <td>8.3</td>\n",
       "      <td>64.29999</td>\n",
       "      <td>[Drama]</td>\n",
       "      <td>8.2</td>\n",
       "    </tr>\n",
       "  </tbody>\n",
       "</table>\n",
       "</div>"
      ],
      "text/plain": [
       "                             title  vote_count  vote_average  popularity  \\\n",
       "10397  Dilwale Dulhania Le Jayenge       661.0           9.1   34.457024   \n",
       "841                  The Godfather      6024.0           8.5   41.109264   \n",
       "314       The Shawshank Redemption      8358.0           8.5   51.645403   \n",
       "12589              The Dark Knight     12269.0           8.3  123.167259   \n",
       "2870                    Fight Club      9678.0           8.3   63.869599   \n",
       "292                   Pulp Fiction      8670.0           8.3  140.950236   \n",
       "2231             Life Is Beautiful      3643.0           8.3    39.39497   \n",
       "1199        The Godfather: Part II      3418.0           8.3   36.629307   \n",
       "5529                 Spirited Away      3968.0           8.3   41.048867   \n",
       "23868                     Whiplash      4376.0           8.3    64.29999   \n",
       "\n",
       "                                       genres1  wt_ratings  \n",
       "10397                 [Comedy, Drama, Romance]         8.4  \n",
       "841                             [Drama, Crime]         8.4  \n",
       "314                             [Drama, Crime]         8.4  \n",
       "12589         [Drama, Action, Crime, Thriller]         8.3  \n",
       "2870                                   [Drama]         8.3  \n",
       "292                          [Thriller, Crime]         8.2  \n",
       "2231                           [Comedy, Drama]         8.2  \n",
       "1199                            [Drama, Crime]         8.2  \n",
       "5529   [Fantasy, Adventure, Animation, Family]         8.2  \n",
       "23868                                  [Drama]         8.2  "
      ]
     },
     "execution_count": 17,
     "metadata": {},
     "output_type": "execute_result"
    }
   ],
   "source": [
    "#Sort movies based on score calculated above\n",
    "top_chart_movies = top_chart_movies.sort_values('wt_ratings', ascending=False)\n",
    "\n",
    "#Print the top 15 movies\n",
    "top_chart_movies[['title', 'vote_count', 'vote_average','popularity','genres1','wt_ratings']].head(10)"
   ]
  },
  {
   "cell_type": "markdown",
   "metadata": {
    "execution": {
     "iopub.execute_input": "2023-01-23T00:34:04.624999Z",
     "iopub.status.busy": "2023-01-23T00:34:04.624557Z",
     "iopub.status.idle": "2023-01-23T00:34:04.630452Z",
     "shell.execute_reply": "2023-01-23T00:34:04.629469Z",
     "shell.execute_reply.started": "2023-01-23T00:34:04.624964Z"
    }
   },
   "source": [
    "Now we can display the above list in the trending section. This is a very basic recommender. Now it is time to add more complexity and personalization."
   ]
  },
  {
   "cell_type": "markdown",
   "metadata": {},
   "source": [
    "### Top charts by genres"
   ]
  },
  {
   "cell_type": "markdown",
   "metadata": {},
   "source": [
    "Now we create top charts based on genres such as action, romance, thriller etc"
   ]
  },
  {
   "cell_type": "code",
   "execution_count": 18,
   "metadata": {
    "tags": []
   },
   "outputs": [],
   "source": [
    "def top_charts_by_genres(genre = 'Action', percentile=0.85):\n",
    "    df = df_movies_metadata[df_movies_metadata['genres'].str.contains(genre)]\n",
    "    #Mean rating C is calculated as\n",
    "    C= df['vote_average'].mean()\n",
    "    m = df_movies_metadata['vote_count'].quantile(percentile)\n",
    "\n",
    "    df1 = df[df['vote_count'] >= m]\n",
    "    \n",
    "    df1['wt_ratings'] = round(df1.apply(lambda x: (x['vote_count']/(x['vote_count']+m) * x['vote_average']) \\\n",
    "                                                  + (m/(m+x['vote_count']) * C), axis=1),1)\n",
    "    df1 = df1[['title','year', 'vote_count', 'vote_average','popularity','genres1','wt_ratings']].sort_values('wt_ratings', ascending=False).head(250)\n",
    "    return df1    "
   ]
  },
  {
   "cell_type": "code",
   "execution_count": 19,
   "metadata": {
    "tags": []
   },
   "outputs": [
    {
     "data": {
      "text/html": [
       "<div>\n",
       "<style scoped>\n",
       "    .dataframe tbody tr th:only-of-type {\n",
       "        vertical-align: middle;\n",
       "    }\n",
       "\n",
       "    .dataframe tbody tr th {\n",
       "        vertical-align: top;\n",
       "    }\n",
       "\n",
       "    .dataframe thead th {\n",
       "        text-align: right;\n",
       "    }\n",
       "</style>\n",
       "<table border=\"1\" class=\"dataframe\">\n",
       "  <thead>\n",
       "    <tr style=\"text-align: right;\">\n",
       "      <th></th>\n",
       "      <th>title</th>\n",
       "      <th>year</th>\n",
       "      <th>vote_count</th>\n",
       "      <th>vote_average</th>\n",
       "      <th>popularity</th>\n",
       "      <th>genres1</th>\n",
       "      <th>wt_ratings</th>\n",
       "    </tr>\n",
       "  </thead>\n",
       "  <tbody>\n",
       "    <tr>\n",
       "      <th>3057</th>\n",
       "      <td>The Green Mile</td>\n",
       "      <td>1999</td>\n",
       "      <td>4166.0</td>\n",
       "      <td>8.2</td>\n",
       "      <td>19.96678</td>\n",
       "      <td>[Fantasy, Drama, Crime]</td>\n",
       "      <td>8.2</td>\n",
       "    </tr>\n",
       "    <tr>\n",
       "      <th>5529</th>\n",
       "      <td>Spirited Away</td>\n",
       "      <td>2001</td>\n",
       "      <td>3968.0</td>\n",
       "      <td>8.3</td>\n",
       "      <td>41.048867</td>\n",
       "      <td>[Fantasy, Adventure, Animation, Family]</td>\n",
       "      <td>8.2</td>\n",
       "    </tr>\n",
       "    <tr>\n",
       "      <th>2911</th>\n",
       "      <td>Princess Mononoke</td>\n",
       "      <td>1997</td>\n",
       "      <td>2041.0</td>\n",
       "      <td>8.2</td>\n",
       "      <td>17.166725</td>\n",
       "      <td>[Adventure, Fantasy, Animation]</td>\n",
       "      <td>8.1</td>\n",
       "    </tr>\n",
       "    <tr>\n",
       "      <th>9786</th>\n",
       "      <td>Howl's Moving Castle</td>\n",
       "      <td>2004</td>\n",
       "      <td>2049.0</td>\n",
       "      <td>8.2</td>\n",
       "      <td>16.136048</td>\n",
       "      <td>[Fantasy, Animation, Adventure]</td>\n",
       "      <td>8.1</td>\n",
       "    </tr>\n",
       "    <tr>\n",
       "      <th>7069</th>\n",
       "      <td>The Lord of the Rings: The Return of the King</td>\n",
       "      <td>2003</td>\n",
       "      <td>8226.0</td>\n",
       "      <td>8.1</td>\n",
       "      <td>29.324358</td>\n",
       "      <td>[Adventure, Fantasy, Action]</td>\n",
       "      <td>8.1</td>\n",
       "    </tr>\n",
       "    <tr>\n",
       "      <th>4904</th>\n",
       "      <td>The Lord of the Rings: The Fellowship of the Ring</td>\n",
       "      <td>2001</td>\n",
       "      <td>8892.0</td>\n",
       "      <td>8.0</td>\n",
       "      <td>32.070725</td>\n",
       "      <td>[Adventure, Fantasy, Action]</td>\n",
       "      <td>8.0</td>\n",
       "    </tr>\n",
       "    <tr>\n",
       "      <th>5876</th>\n",
       "      <td>The Lord of the Rings: The Two Towers</td>\n",
       "      <td>2002</td>\n",
       "      <td>7641.0</td>\n",
       "      <td>8.0</td>\n",
       "      <td>29.423537</td>\n",
       "      <td>[Adventure, Fantasy, Action]</td>\n",
       "      <td>8.0</td>\n",
       "    </tr>\n",
       "    <tr>\n",
       "      <th>5895</th>\n",
       "      <td>My Neighbor Totoro</td>\n",
       "      <td>1988</td>\n",
       "      <td>1730.0</td>\n",
       "      <td>8.0</td>\n",
       "      <td>13.507299</td>\n",
       "      <td>[Fantasy, Animation, Family]</td>\n",
       "      <td>7.9</td>\n",
       "    </tr>\n",
       "    <tr>\n",
       "      <th>17627</th>\n",
       "      <td>Harry Potter and the Deathly Hallows: Part 2</td>\n",
       "      <td>2011</td>\n",
       "      <td>6141.0</td>\n",
       "      <td>7.9</td>\n",
       "      <td>24.990737</td>\n",
       "      <td>[Family, Fantasy, Adventure]</td>\n",
       "      <td>7.9</td>\n",
       "    </tr>\n",
       "    <tr>\n",
       "      <th>2603</th>\n",
       "      <td>The Legend of 1900</td>\n",
       "      <td>1998</td>\n",
       "      <td>554.0</td>\n",
       "      <td>8.1</td>\n",
       "      <td>7.668214</td>\n",
       "      <td>[Fantasy]</td>\n",
       "      <td>7.8</td>\n",
       "    </tr>\n",
       "  </tbody>\n",
       "</table>\n",
       "</div>"
      ],
      "text/plain": [
       "                                                   title  year  vote_count  \\\n",
       "3057                                      The Green Mile  1999      4166.0   \n",
       "5529                                       Spirited Away  2001      3968.0   \n",
       "2911                                   Princess Mononoke  1997      2041.0   \n",
       "9786                                Howl's Moving Castle  2004      2049.0   \n",
       "7069       The Lord of the Rings: The Return of the King  2003      8226.0   \n",
       "4904   The Lord of the Rings: The Fellowship of the Ring  2001      8892.0   \n",
       "5876               The Lord of the Rings: The Two Towers  2002      7641.0   \n",
       "5895                                  My Neighbor Totoro  1988      1730.0   \n",
       "17627       Harry Potter and the Deathly Hallows: Part 2  2011      6141.0   \n",
       "2603                                  The Legend of 1900  1998       554.0   \n",
       "\n",
       "       vote_average popularity                                  genres1  \\\n",
       "3057            8.2   19.96678                  [Fantasy, Drama, Crime]   \n",
       "5529            8.3  41.048867  [Fantasy, Adventure, Animation, Family]   \n",
       "2911            8.2  17.166725          [Adventure, Fantasy, Animation]   \n",
       "9786            8.2  16.136048          [Fantasy, Animation, Adventure]   \n",
       "7069            8.1  29.324358             [Adventure, Fantasy, Action]   \n",
       "4904            8.0  32.070725             [Adventure, Fantasy, Action]   \n",
       "5876            8.0  29.423537             [Adventure, Fantasy, Action]   \n",
       "5895            8.0  13.507299             [Fantasy, Animation, Family]   \n",
       "17627           7.9  24.990737             [Family, Fantasy, Adventure]   \n",
       "2603            8.1   7.668214                                [Fantasy]   \n",
       "\n",
       "       wt_ratings  \n",
       "3057          8.2  \n",
       "5529          8.2  \n",
       "2911          8.1  \n",
       "9786          8.1  \n",
       "7069          8.1  \n",
       "4904          8.0  \n",
       "5876          8.0  \n",
       "5895          7.9  \n",
       "17627         7.9  \n",
       "2603          7.8  "
      ]
     },
     "execution_count": 19,
     "metadata": {},
     "output_type": "execute_result"
    }
   ],
   "source": [
    "top_charts_by_genres('Fantasy').head(10)"
   ]
  },
  {
   "cell_type": "markdown",
   "metadata": {
    "execution": {
     "iopub.execute_input": "2023-01-23T17:55:16.558856Z",
     "iopub.status.busy": "2023-01-23T17:55:16.558319Z",
     "iopub.status.idle": "2023-01-23T17:55:16.568476Z",
     "shell.execute_reply": "2023-01-23T17:55:16.567086Z",
     "shell.execute_reply.started": "2023-01-23T17:55:16.558817Z"
    }
   },
   "source": [
    "Now that we have built a sligthly more specific recommender based on genre, we can extend this to build other types of demography based recommender based on age, gender etc."
   ]
  },
  {
   "cell_type": "markdown",
   "metadata": {
    "execution": {
     "iopub.execute_input": "2023-01-23T00:35:36.901360Z",
     "iopub.status.busy": "2023-01-23T00:35:36.900907Z",
     "iopub.status.idle": "2023-01-23T00:35:36.906169Z",
     "shell.execute_reply": "2023-01-23T00:35:36.905017Z",
     "shell.execute_reply.started": "2023-01-23T00:35:36.901317Z"
    }
   },
   "source": [
    "### Content Based Filtering Recommender"
   ]
  },
  {
   "cell_type": "code",
   "execution_count": 20,
   "metadata": {
    "tags": []
   },
   "outputs": [
    {
     "data": {
      "text/plain": [
       "0                                                     \n",
       "1    Roll the dice and unleash the excitement! When...\n",
       "2    Still Yelling. Still Fighting. Still Ready for...\n",
       "3    Friends are the people who let you be yourself...\n",
       "4    Just When His World Is Back To Normal... He's ...\n",
       "Name: plot, dtype: object"
      ]
     },
     "execution_count": 20,
     "metadata": {},
     "output_type": "execute_result"
    }
   ],
   "source": [
    "# Concatenate Overview with Tagline to get a better plot.\n",
    "\n",
    "df_movies_metadata['plot'] = df_movies_metadata['tagline']+' '+df_movies_metadata['overview']\n",
    "df_movies_metadata['plot'] = df_movies_metadata['plot'].fillna('')\n",
    "df_movies_metadata['plot'].head()"
   ]
  },
  {
   "cell_type": "markdown",
   "metadata": {},
   "source": [
    "We shall use **TF-IDF**, (term frequency–inverse document frequency) to convert the overview to a number, **TF-IDF** is a numerical statistic that is intended to reflect how important a word is to a document in a collection or corpus. \n",
    "\n",
    "Term Frequency - There are several ways of calculating this frequency, but here is use the formula # of times the term occurs in the plot of a movie / (divided by) total # of times it occurs across plot of all the movies\n",
    "Inverse Document Frequency - log(number of movies/plot with term)\n",
    "\n",
    "TF-IDF = TF * IDF. This gives the overall importance of the term.\n",
    "\n",
    "We will first clean the plots of stop words (commonly occuring words such as 'a', 'the', 'at' etc) so that we are left with important words."
   ]
  },
  {
   "cell_type": "code",
   "execution_count": 21,
   "metadata": {
    "tags": []
   },
   "outputs": [
    {
     "data": {
      "text/plain": [
       "(46628, 572966)"
      ]
     },
     "execution_count": 21,
     "metadata": {},
     "output_type": "execute_result"
    }
   ],
   "source": [
    "\n",
    "#Define a TF-IDF Vectorizer Object. Remove all english stop words such as 'the', 'a'\n",
    "tfidf = TfidfVectorizer(analyzer='word',ngram_range=(1, 2),min_df=0,stop_words='english')\n",
    "\n",
    "#Replace NaN with an empty string\n",
    "df_movies_metadata['plot'] = df_movies_metadata['plot'].fillna('')\n",
    "\n",
    "#Construct the required TF-IDF matrix by fitting and transforming the data\n",
    "tfidf_matrix = tfidf.fit_transform(df_movies_metadata['plot'])\n",
    "\n",
    "#Output the shape of tfidf_matrix\n",
    "tfidf_matrix.shape"
   ]
  },
  {
   "cell_type": "markdown",
   "metadata": {},
   "source": [
    "There are many methods to find similarities between two vectors such as Cosine similarity, Pearson Coefficient, Euclidean Distance, Jaccard Distance. Here we will calculate the cosine similarity. It is defined as follows:\n",
    "\n",
    "$cosine(X,Y)=\\frac{X.Y^T}{||X||.||Y||}\\$\n",
    "\n",
    "Since we have used the TF-IDF Vectorizer, calculating the Dot Product will directly give us the Cosine Similarity Score. Therefore, we will use sklearn's linear_kernel instead of cosine_similarities since it is much faster."
   ]
  },
  {
   "cell_type": "code",
   "execution_count": 22,
   "metadata": {
    "tags": []
   },
   "outputs": [],
   "source": [
    "cosine_sim = linear_kernel(tfidf_matrix, tfidf_matrix)"
   ]
  },
  {
   "cell_type": "code",
   "execution_count": 23,
   "metadata": {
    "tags": []
   },
   "outputs": [
    {
     "data": {
      "text/plain": [
       "0      862\n",
       "1     8844\n",
       "2    15602\n",
       "3    31357\n",
       "4    11862\n",
       "Name: id, dtype: int64"
      ]
     },
     "execution_count": 23,
     "metadata": {},
     "output_type": "execute_result"
    }
   ],
   "source": [
    "df_movies_metadata['id'].head()"
   ]
  },
  {
   "cell_type": "code",
   "execution_count": 24,
   "metadata": {
    "tags": []
   },
   "outputs": [
    {
     "data": {
      "text/plain": [
       "18442"
      ]
     },
     "execution_count": 24,
     "metadata": {},
     "output_type": "execute_result"
    }
   ],
   "source": [
    "#Construct a reverse map of indices and movie titles\n",
    "indices = pd.Series(df_movies_metadata.index, index=df_movies_metadata['title']).drop_duplicates()\n",
    "\n",
    "indices['The Dark Knight Rises']"
   ]
  },
  {
   "cell_type": "code",
   "execution_count": 25,
   "metadata": {
    "tags": []
   },
   "outputs": [
    {
     "data": {
      "text/html": [
       "<div>\n",
       "<style scoped>\n",
       "    .dataframe tbody tr th:only-of-type {\n",
       "        vertical-align: middle;\n",
       "    }\n",
       "\n",
       "    .dataframe tbody tr th {\n",
       "        vertical-align: top;\n",
       "    }\n",
       "\n",
       "    .dataframe thead th {\n",
       "        text-align: right;\n",
       "    }\n",
       "</style>\n",
       "<table border=\"1\" class=\"dataframe\">\n",
       "  <thead>\n",
       "    <tr style=\"text-align: right;\">\n",
       "      <th></th>\n",
       "      <th>adult</th>\n",
       "      <th>belongs_to_collection</th>\n",
       "      <th>budget</th>\n",
       "      <th>genres</th>\n",
       "      <th>homepage</th>\n",
       "      <th>id</th>\n",
       "      <th>imdb_id</th>\n",
       "      <th>original_language</th>\n",
       "      <th>original_title</th>\n",
       "      <th>overview</th>\n",
       "      <th>...</th>\n",
       "      <th>title</th>\n",
       "      <th>video</th>\n",
       "      <th>vote_average</th>\n",
       "      <th>vote_count</th>\n",
       "      <th>cast</th>\n",
       "      <th>crew</th>\n",
       "      <th>keywords</th>\n",
       "      <th>year</th>\n",
       "      <th>genres1</th>\n",
       "      <th>plot</th>\n",
       "    </tr>\n",
       "  </thead>\n",
       "  <tbody>\n",
       "    <tr>\n",
       "      <th>18442</th>\n",
       "      <td>False</td>\n",
       "      <td>{'id': 263, 'name': 'The Dark Knight Collectio...</td>\n",
       "      <td>250000000</td>\n",
       "      <td>[{'id': 28, 'name': 'Action'}, {'id': 80, 'nam...</td>\n",
       "      <td>http://www.thedarkknightrises.com/</td>\n",
       "      <td>49026</td>\n",
       "      <td>tt1345836</td>\n",
       "      <td>en</td>\n",
       "      <td>The Dark Knight Rises</td>\n",
       "      <td>Following the death of District Attorney Harve...</td>\n",
       "      <td>...</td>\n",
       "      <td>The Dark Knight Rises</td>\n",
       "      <td>False</td>\n",
       "      <td>7.6</td>\n",
       "      <td>9263.0</td>\n",
       "      <td>[{'cast_id': 2, 'character': 'Bruce Wayne / Ba...</td>\n",
       "      <td>[{'credit_id': '52fe4781c3a36847f81398c3', 'de...</td>\n",
       "      <td>[{'id': 849, 'name': 'dc comics'}, {'id': 853,...</td>\n",
       "      <td>2012</td>\n",
       "      <td>[Action, Crime, Drama, Thriller]</td>\n",
       "      <td>The Legend Ends Following the death of Distric...</td>\n",
       "    </tr>\n",
       "  </tbody>\n",
       "</table>\n",
       "<p>1 rows × 30 columns</p>\n",
       "</div>"
      ],
      "text/plain": [
       "       adult                              belongs_to_collection     budget  \\\n",
       "18442  False  {'id': 263, 'name': 'The Dark Knight Collectio...  250000000   \n",
       "\n",
       "                                                  genres  \\\n",
       "18442  [{'id': 28, 'name': 'Action'}, {'id': 80, 'nam...   \n",
       "\n",
       "                                 homepage     id    imdb_id original_language  \\\n",
       "18442  http://www.thedarkknightrises.com/  49026  tt1345836                en   \n",
       "\n",
       "              original_title  \\\n",
       "18442  The Dark Knight Rises   \n",
       "\n",
       "                                                overview  ...  \\\n",
       "18442  Following the death of District Attorney Harve...  ...   \n",
       "\n",
       "                       title  video vote_average vote_count  \\\n",
       "18442  The Dark Knight Rises  False          7.6     9263.0   \n",
       "\n",
       "                                                    cast  \\\n",
       "18442  [{'cast_id': 2, 'character': 'Bruce Wayne / Ba...   \n",
       "\n",
       "                                                    crew  \\\n",
       "18442  [{'credit_id': '52fe4781c3a36847f81398c3', 'de...   \n",
       "\n",
       "                                                keywords  year  \\\n",
       "18442  [{'id': 849, 'name': 'dc comics'}, {'id': 853,...  2012   \n",
       "\n",
       "                                genres1  \\\n",
       "18442  [Action, Crime, Drama, Thriller]   \n",
       "\n",
       "                                                    plot  \n",
       "18442  The Legend Ends Following the death of Distric...  \n",
       "\n",
       "[1 rows x 30 columns]"
      ]
     },
     "execution_count": 25,
     "metadata": {},
     "output_type": "execute_result"
    }
   ],
   "source": [
    "df_movies_metadata[df_movies_metadata['title'] == 'The Dark Knight Rises']"
   ]
  },
  {
   "cell_type": "code",
   "execution_count": 26,
   "metadata": {
    "tags": []
   },
   "outputs": [
    {
     "data": {
      "text/plain": [
       "0    [{'cast_id': 14, 'character': 'Woody (voice)',...\n",
       "1    [{'cast_id': 1, 'character': 'Alan Parrish', '...\n",
       "2    [{'cast_id': 2, 'character': 'Max Goldman', 'c...\n",
       "3    [{'cast_id': 1, 'character': 'Savannah 'Vannah...\n",
       "4    [{'cast_id': 1, 'character': 'George Banks', '...\n",
       "Name: cast, dtype: object"
      ]
     },
     "execution_count": 26,
     "metadata": {},
     "output_type": "execute_result"
    }
   ],
   "source": [
    "# Parse the stringified features into their corresponding python objects\n",
    "from ast import literal_eval\n",
    "\n",
    "features = ['cast', 'crew', 'keywords', 'genres']\n",
    "for feature in features:\n",
    "    df_movies_metadata[feature] = df_movies_metadata[feature].apply(literal_eval)\n",
    "    \n",
    "df_movies_metadata['cast'].head()"
   ]
  },
  {
   "cell_type": "code",
   "execution_count": 27,
   "metadata": {
    "tags": []
   },
   "outputs": [
    {
     "data": {
      "text/plain": [
       "0      John Lasseter\n",
       "1       Joe Johnston\n",
       "2      Howard Deutch\n",
       "3    Forest Whitaker\n",
       "4      Charles Shyer\n",
       "Name: director, dtype: object"
      ]
     },
     "execution_count": 27,
     "metadata": {},
     "output_type": "execute_result"
    }
   ],
   "source": [
    "#get_director\n",
    "def get_director(x):\n",
    "    for i in x:\n",
    "        if i['job'] == 'Director':\n",
    "            return i['name']\n",
    "    return np.nan\n",
    "\n",
    "df_movies_metadata['director'] = df_movies_metadata['crew'].apply(get_director)\n",
    "df_movies_metadata['director'].head()"
   ]
  },
  {
   "cell_type": "code",
   "execution_count": 28,
   "metadata": {
    "tags": []
   },
   "outputs": [
    {
     "data": {
      "text/plain": [
       "0                  [Tom Hanks, Tim Allen, Don Rickles]\n",
       "1       [Robin Williams, Jonathan Hyde, Kirsten Dunst]\n",
       "2           [Walter Matthau, Jack Lemmon, Ann-Margret]\n",
       "3    [Whitney Houston, Angela Bassett, Loretta Devine]\n",
       "4           [Steve Martin, Diane Keaton, Martin Short]\n",
       "Name: top3_actors, dtype: object"
      ]
     },
     "execution_count": 28,
     "metadata": {},
     "output_type": "execute_result"
    }
   ],
   "source": [
    "df_movies_metadata['top3_actors'] = df_movies_metadata['cast'].apply(lambda x: [i['name'] for i in x])\n",
    "df_movies_metadata['top3_actors'] = df_movies_metadata['top3_actors'].apply(lambda x: x[:3] if len(x) > 3 else x)\n",
    "df_movies_metadata['top3_actors'].head()"
   ]
  },
  {
   "cell_type": "code",
   "execution_count": 29,
   "metadata": {
    "tags": []
   },
   "outputs": [],
   "source": [
    "df_movies_metadata['genres1'] = df_movies_metadata['genres1'].apply(lambda x: x[:3] if len(x) >3 else x)"
   ]
  },
  {
   "cell_type": "code",
   "execution_count": 66,
   "metadata": {
    "tags": []
   },
   "outputs": [],
   "source": [
    "# Function that takes in movie title as input and outputs most similar movies\n",
    "def get_recommendations(title, cosine_sim=cosine_sim):\n",
    "    # If multiple movies have the same title, get the most recent movie's index\n",
    "    idx= df_movies_metadata[df_movies_metadata['title'] == title].sort_values(by='popularity', ascending=False).index[0]\n",
    "\n",
    "    # Get the pairwsie similarity scores of all movies with that movie\n",
    "    sim_scores = list(enumerate(cosine_sim[idx]))\n",
    "\n",
    "    # Sort the movies based on the similarity scores\n",
    "    sim_scores = sorted(sim_scores, key=lambda x: x[1], reverse=True)\n",
    "\n",
    "    # Get the scores of the 10 most similar movies\n",
    "    sim_scores = sim_scores[1:11]\n",
    "\n",
    "    # Get the movie indices\n",
    "    movie_indices = [i[0] for i in sim_scores]\n",
    "\n",
    "    # Return the top 10 most similar movies\n",
    "    return df_movies_metadata[['title','year','director','top3_actors','genres1']].iloc[movie_indices]"
   ]
  },
  {
   "cell_type": "code",
   "execution_count": 67,
   "metadata": {
    "tags": []
   },
   "outputs": [
    {
     "data": {
      "text/html": [
       "<div>\n",
       "<style scoped>\n",
       "    .dataframe tbody tr th:only-of-type {\n",
       "        vertical-align: middle;\n",
       "    }\n",
       "\n",
       "    .dataframe tbody tr th {\n",
       "        vertical-align: top;\n",
       "    }\n",
       "\n",
       "    .dataframe thead th {\n",
       "        text-align: right;\n",
       "    }\n",
       "</style>\n",
       "<table border=\"1\" class=\"dataframe\">\n",
       "  <thead>\n",
       "    <tr style=\"text-align: right;\">\n",
       "      <th></th>\n",
       "      <th>title</th>\n",
       "      <th>year</th>\n",
       "      <th>director</th>\n",
       "      <th>top3_actors</th>\n",
       "      <th>genres1</th>\n",
       "    </tr>\n",
       "  </thead>\n",
       "  <tbody>\n",
       "    <tr>\n",
       "      <th>9312</th>\n",
       "      <td>Batman Beyond: Return of the Joker</td>\n",
       "      <td>2000</td>\n",
       "      <td>Curt Geda</td>\n",
       "      <td>[Will Friedle, Kevin Conroy, Mark Hamill]</td>\n",
       "      <td>[Animation, Family]</td>\n",
       "    </tr>\n",
       "    <tr>\n",
       "      <th>21599</th>\n",
       "      <td>Batman: Mystery of the Batwoman</td>\n",
       "      <td>2003</td>\n",
       "      <td>Curt Geda</td>\n",
       "      <td>[Kevin Conroy, Tara Strong, Héctor Elizondo]</td>\n",
       "      <td>[Adventure, Fantasy, Animation]</td>\n",
       "    </tr>\n",
       "    <tr>\n",
       "      <th>3122</th>\n",
       "      <td>Batman: Mask of the Phantasm</td>\n",
       "      <td>1993</td>\n",
       "      <td>Bruce Timm</td>\n",
       "      <td>[Kevin Conroy, Mark Hamill, Dana Delany]</td>\n",
       "      <td>[Action, Adventure, Animation]</td>\n",
       "    </tr>\n",
       "    <tr>\n",
       "      <th>25468</th>\n",
       "      <td>Batman vs Dracula</td>\n",
       "      <td>2005</td>\n",
       "      <td>Michael Goguen</td>\n",
       "      <td>[Rino Romano, Peter Stormare, Tara Strong]</td>\n",
       "      <td>[Fantasy, Animation, Horror]</td>\n",
       "    </tr>\n",
       "    <tr>\n",
       "      <th>18442</th>\n",
       "      <td>The Dark Knight Rises</td>\n",
       "      <td>2012</td>\n",
       "      <td>Christopher Nolan</td>\n",
       "      <td>[Christian Bale, Michael Caine, Gary Oldman]</td>\n",
       "      <td>[Action, Crime, Drama]</td>\n",
       "    </tr>\n",
       "    <tr>\n",
       "      <th>150</th>\n",
       "      <td>Batman Forever</td>\n",
       "      <td>1995</td>\n",
       "      <td>Joel Schumacher</td>\n",
       "      <td>[Val Kilmer, Tommy Lee Jones, Jim Carrey]</td>\n",
       "      <td>[Action, Crime, Fantasy]</td>\n",
       "    </tr>\n",
       "    <tr>\n",
       "      <th>32329</th>\n",
       "      <td>Batman Unlimited: Monster Mayhem</td>\n",
       "      <td>2015</td>\n",
       "      <td>Butch Lukic</td>\n",
       "      <td>[Roger Craig Smith, Troy Baker, Chris Diamanto...</td>\n",
       "      <td>[Action, Animation, Family]</td>\n",
       "    </tr>\n",
       "    <tr>\n",
       "      <th>15682</th>\n",
       "      <td>Batman: Under the Red Hood</td>\n",
       "      <td>2010</td>\n",
       "      <td>Brandon Vietti</td>\n",
       "      <td>[Bruce Greenwood, Jensen Ackles, Neil Patrick ...</td>\n",
       "      <td>[Action, Animation]</td>\n",
       "    </tr>\n",
       "    <tr>\n",
       "      <th>10210</th>\n",
       "      <td>Batman Begins</td>\n",
       "      <td>2005</td>\n",
       "      <td>Christopher Nolan</td>\n",
       "      <td>[Christian Bale, Michael Caine, Liam Neeson]</td>\n",
       "      <td>[Action, Crime, Drama]</td>\n",
       "    </tr>\n",
       "    <tr>\n",
       "      <th>12589</th>\n",
       "      <td>The Dark Knight</td>\n",
       "      <td>2008</td>\n",
       "      <td>Christopher Nolan</td>\n",
       "      <td>[Christian Bale, Michael Caine, Heath Ledger]</td>\n",
       "      <td>[Drama, Action, Crime]</td>\n",
       "    </tr>\n",
       "  </tbody>\n",
       "</table>\n",
       "</div>"
      ],
      "text/plain": [
       "                                    title  year           director  \\\n",
       "9312   Batman Beyond: Return of the Joker  2000          Curt Geda   \n",
       "21599     Batman: Mystery of the Batwoman  2003          Curt Geda   \n",
       "3122         Batman: Mask of the Phantasm  1993         Bruce Timm   \n",
       "25468                   Batman vs Dracula  2005     Michael Goguen   \n",
       "18442               The Dark Knight Rises  2012  Christopher Nolan   \n",
       "150                        Batman Forever  1995    Joel Schumacher   \n",
       "32329    Batman Unlimited: Monster Mayhem  2015        Butch Lukic   \n",
       "15682          Batman: Under the Red Hood  2010     Brandon Vietti   \n",
       "10210                       Batman Begins  2005  Christopher Nolan   \n",
       "12589                     The Dark Knight  2008  Christopher Nolan   \n",
       "\n",
       "                                             top3_actors  \\\n",
       "9312           [Will Friedle, Kevin Conroy, Mark Hamill]   \n",
       "21599       [Kevin Conroy, Tara Strong, Héctor Elizondo]   \n",
       "3122            [Kevin Conroy, Mark Hamill, Dana Delany]   \n",
       "25468         [Rino Romano, Peter Stormare, Tara Strong]   \n",
       "18442       [Christian Bale, Michael Caine, Gary Oldman]   \n",
       "150            [Val Kilmer, Tommy Lee Jones, Jim Carrey]   \n",
       "32329  [Roger Craig Smith, Troy Baker, Chris Diamanto...   \n",
       "15682  [Bruce Greenwood, Jensen Ackles, Neil Patrick ...   \n",
       "10210       [Christian Bale, Michael Caine, Liam Neeson]   \n",
       "12589      [Christian Bale, Michael Caine, Heath Ledger]   \n",
       "\n",
       "                               genres1  \n",
       "9312               [Animation, Family]  \n",
       "21599  [Adventure, Fantasy, Animation]  \n",
       "3122    [Action, Adventure, Animation]  \n",
       "25468     [Fantasy, Animation, Horror]  \n",
       "18442           [Action, Crime, Drama]  \n",
       "150           [Action, Crime, Fantasy]  \n",
       "32329      [Action, Animation, Family]  \n",
       "15682              [Action, Animation]  \n",
       "10210           [Action, Crime, Drama]  \n",
       "12589           [Drama, Action, Crime]  "
      ]
     },
     "execution_count": 67,
     "metadata": {},
     "output_type": "execute_result"
    }
   ],
   "source": [
    "#Top 10 movies similar to the movie - The Dark Knight Rises\n",
    "get_recommendations('Batman')"
   ]
  },
  {
   "cell_type": "code",
   "execution_count": 32,
   "metadata": {
    "tags": []
   },
   "outputs": [
    {
     "data": {
      "text/html": [
       "<div>\n",
       "<style scoped>\n",
       "    .dataframe tbody tr th:only-of-type {\n",
       "        vertical-align: middle;\n",
       "    }\n",
       "\n",
       "    .dataframe tbody tr th {\n",
       "        vertical-align: top;\n",
       "    }\n",
       "\n",
       "    .dataframe thead th {\n",
       "        text-align: right;\n",
       "    }\n",
       "</style>\n",
       "<table border=\"1\" class=\"dataframe\">\n",
       "  <thead>\n",
       "    <tr style=\"text-align: right;\">\n",
       "      <th></th>\n",
       "      <th>title</th>\n",
       "      <th>year</th>\n",
       "      <th>director</th>\n",
       "      <th>top3_actors</th>\n",
       "      <th>genres1</th>\n",
       "    </tr>\n",
       "  </thead>\n",
       "  <tbody>\n",
       "    <tr>\n",
       "      <th>150</th>\n",
       "      <td>Batman Forever</td>\n",
       "      <td>1995</td>\n",
       "      <td>Joel Schumacher</td>\n",
       "      <td>[Val Kilmer, Tommy Lee Jones, Jim Carrey]</td>\n",
       "      <td>[Action, Crime, Fantasy]</td>\n",
       "    </tr>\n",
       "    <tr>\n",
       "      <th>12589</th>\n",
       "      <td>The Dark Knight</td>\n",
       "      <td>2008</td>\n",
       "      <td>Christopher Nolan</td>\n",
       "      <td>[Christian Bale, Michael Caine, Heath Ledger]</td>\n",
       "      <td>[Drama, Action, Crime]</td>\n",
       "    </tr>\n",
       "    <tr>\n",
       "      <th>3122</th>\n",
       "      <td>Batman: Mask of the Phantasm</td>\n",
       "      <td>1993</td>\n",
       "      <td>Bruce Timm</td>\n",
       "      <td>[Kevin Conroy, Mark Hamill, Dana Delany]</td>\n",
       "      <td>[Action, Adventure, Animation]</td>\n",
       "    </tr>\n",
       "    <tr>\n",
       "      <th>1349</th>\n",
       "      <td>Batman Returns</td>\n",
       "      <td>1992</td>\n",
       "      <td>Tim Burton</td>\n",
       "      <td>[Michael Keaton, Danny DeVito, Michelle Pfeiffer]</td>\n",
       "      <td>[Action, Fantasy]</td>\n",
       "    </tr>\n",
       "    <tr>\n",
       "      <th>585</th>\n",
       "      <td>Batman</td>\n",
       "      <td>1989</td>\n",
       "      <td>Tim Burton</td>\n",
       "      <td>[Jack Nicholson, Michael Keaton, Kim Basinger]</td>\n",
       "      <td>[Fantasy, Action]</td>\n",
       "    </tr>\n",
       "    <tr>\n",
       "      <th>21599</th>\n",
       "      <td>Batman: Mystery of the Batwoman</td>\n",
       "      <td>2003</td>\n",
       "      <td>Curt Geda</td>\n",
       "      <td>[Kevin Conroy, Tara Strong, Héctor Elizondo]</td>\n",
       "      <td>[Adventure, Fantasy, Animation]</td>\n",
       "    </tr>\n",
       "    <tr>\n",
       "      <th>15682</th>\n",
       "      <td>Batman: Under the Red Hood</td>\n",
       "      <td>2010</td>\n",
       "      <td>Brandon Vietti</td>\n",
       "      <td>[Bruce Greenwood, Jensen Ackles, Neil Patrick ...</td>\n",
       "      <td>[Action, Animation]</td>\n",
       "    </tr>\n",
       "    <tr>\n",
       "      <th>9312</th>\n",
       "      <td>Batman Beyond: Return of the Joker</td>\n",
       "      <td>2000</td>\n",
       "      <td>Curt Geda</td>\n",
       "      <td>[Will Friedle, Kevin Conroy, Mark Hamill]</td>\n",
       "      <td>[Animation, Family]</td>\n",
       "    </tr>\n",
       "    <tr>\n",
       "      <th>18225</th>\n",
       "      <td>Batman: Year One</td>\n",
       "      <td>2011</td>\n",
       "      <td>Lauren Montgomery</td>\n",
       "      <td>[Ben McKenzie, Bryan Cranston, Eliza Dushku]</td>\n",
       "      <td>[Action, Adventure, Animation]</td>\n",
       "    </tr>\n",
       "    <tr>\n",
       "      <th>25468</th>\n",
       "      <td>Batman vs Dracula</td>\n",
       "      <td>2005</td>\n",
       "      <td>Michael Goguen</td>\n",
       "      <td>[Rino Romano, Peter Stormare, Tara Strong]</td>\n",
       "      <td>[Fantasy, Animation, Horror]</td>\n",
       "    </tr>\n",
       "  </tbody>\n",
       "</table>\n",
       "</div>"
      ],
      "text/plain": [
       "                                    title  year           director  \\\n",
       "150                        Batman Forever  1995    Joel Schumacher   \n",
       "12589                     The Dark Knight  2008  Christopher Nolan   \n",
       "3122         Batman: Mask of the Phantasm  1993         Bruce Timm   \n",
       "1349                       Batman Returns  1992         Tim Burton   \n",
       "585                                Batman  1989         Tim Burton   \n",
       "21599     Batman: Mystery of the Batwoman  2003          Curt Geda   \n",
       "15682          Batman: Under the Red Hood  2010     Brandon Vietti   \n",
       "9312   Batman Beyond: Return of the Joker  2000          Curt Geda   \n",
       "18225                    Batman: Year One  2011  Lauren Montgomery   \n",
       "25468                   Batman vs Dracula  2005     Michael Goguen   \n",
       "\n",
       "                                             top3_actors  \\\n",
       "150            [Val Kilmer, Tommy Lee Jones, Jim Carrey]   \n",
       "12589      [Christian Bale, Michael Caine, Heath Ledger]   \n",
       "3122            [Kevin Conroy, Mark Hamill, Dana Delany]   \n",
       "1349   [Michael Keaton, Danny DeVito, Michelle Pfeiffer]   \n",
       "585       [Jack Nicholson, Michael Keaton, Kim Basinger]   \n",
       "21599       [Kevin Conroy, Tara Strong, Héctor Elizondo]   \n",
       "15682  [Bruce Greenwood, Jensen Ackles, Neil Patrick ...   \n",
       "9312           [Will Friedle, Kevin Conroy, Mark Hamill]   \n",
       "18225       [Ben McKenzie, Bryan Cranston, Eliza Dushku]   \n",
       "25468         [Rino Romano, Peter Stormare, Tara Strong]   \n",
       "\n",
       "                               genres1  \n",
       "150           [Action, Crime, Fantasy]  \n",
       "12589           [Drama, Action, Crime]  \n",
       "3122    [Action, Adventure, Animation]  \n",
       "1349                 [Action, Fantasy]  \n",
       "585                  [Fantasy, Action]  \n",
       "21599  [Adventure, Fantasy, Animation]  \n",
       "15682              [Action, Animation]  \n",
       "9312               [Animation, Family]  \n",
       "18225   [Action, Adventure, Animation]  \n",
       "25468     [Fantasy, Animation, Horror]  "
      ]
     },
     "execution_count": 32,
     "metadata": {},
     "output_type": "execute_result"
    }
   ],
   "source": [
    "#Top 10 movies similar to the movie - Scarface\n",
    "get_recommendations('The Dark Knight Rises')"
   ]
  },
  {
   "cell_type": "markdown",
   "metadata": {},
   "source": [
    "### Metadata based recommender\n",
    "\n",
    "In this section we will develop a recommender based on director, cast, genre and keywords given in the data"
   ]
  },
  {
   "cell_type": "code",
   "execution_count": 33,
   "metadata": {
    "_kg_hide-input": false,
    "tags": []
   },
   "outputs": [],
   "source": [
    "#get_director\n",
    "# def get_top3_cast(x):\n",
    "#     actor_list = [i['name'] for i in x]\n",
    "#     if len(actor_list) > 3:\n",
    "#         actor_list = actor_list[:3]\n",
    "#     return actor_list"
   ]
  },
  {
   "cell_type": "code",
   "execution_count": 34,
   "metadata": {},
   "outputs": [
    {
     "data": {
      "text/plain": [
       "0    [{'id': 931, 'name': 'jealousy'}, {'id': 4290,...\n",
       "1    [{'id': 10090, 'name': 'board game'}, {'id': 1...\n",
       "2    [{'id': 1495, 'name': 'fishing'}, {'id': 12392...\n",
       "3    [{'id': 818, 'name': 'based on novel'}, {'id':...\n",
       "4    [{'id': 1009, 'name': 'baby'}, {'id': 1599, 'n...\n",
       "Name: keywords, dtype: object"
      ]
     },
     "execution_count": 34,
     "metadata": {},
     "output_type": "execute_result"
    }
   ],
   "source": [
    "df_movies_metadata['keywords'].head()"
   ]
  },
  {
   "cell_type": "code",
   "execution_count": 35,
   "metadata": {
    "tags": []
   },
   "outputs": [],
   "source": [
    "#convert keywords to a list\n",
    "df_movies_metadata['keywords'] = df_movies_metadata['keywords'].apply(lambda x: [i['name'] for i in x])"
   ]
  },
  {
   "cell_type": "code",
   "execution_count": 36,
   "metadata": {
    "tags": []
   },
   "outputs": [
    {
     "data": {
      "text/html": [
       "<div>\n",
       "<style scoped>\n",
       "    .dataframe tbody tr th:only-of-type {\n",
       "        vertical-align: middle;\n",
       "    }\n",
       "\n",
       "    .dataframe tbody tr th {\n",
       "        vertical-align: top;\n",
       "    }\n",
       "\n",
       "    .dataframe thead th {\n",
       "        text-align: right;\n",
       "    }\n",
       "</style>\n",
       "<table border=\"1\" class=\"dataframe\">\n",
       "  <thead>\n",
       "    <tr style=\"text-align: right;\">\n",
       "      <th></th>\n",
       "      <th>title</th>\n",
       "      <th>top3_actors</th>\n",
       "      <th>director</th>\n",
       "      <th>keywords</th>\n",
       "      <th>genres1</th>\n",
       "    </tr>\n",
       "  </thead>\n",
       "  <tbody>\n",
       "    <tr>\n",
       "      <th>0</th>\n",
       "      <td>Toy Story</td>\n",
       "      <td>[Tom Hanks, Tim Allen, Don Rickles]</td>\n",
       "      <td>John Lasseter</td>\n",
       "      <td>[jealousy, toy, boy, friendship, friends, riva...</td>\n",
       "      <td>[Animation, Comedy, Family]</td>\n",
       "    </tr>\n",
       "    <tr>\n",
       "      <th>1</th>\n",
       "      <td>Jumanji</td>\n",
       "      <td>[Robin Williams, Jonathan Hyde, Kirsten Dunst]</td>\n",
       "      <td>Joe Johnston</td>\n",
       "      <td>[board game, disappearance, based on children'...</td>\n",
       "      <td>[Adventure, Fantasy, Family]</td>\n",
       "    </tr>\n",
       "    <tr>\n",
       "      <th>2</th>\n",
       "      <td>Grumpier Old Men</td>\n",
       "      <td>[Walter Matthau, Jack Lemmon, Ann-Margret]</td>\n",
       "      <td>Howard Deutch</td>\n",
       "      <td>[fishing, best friend, duringcreditsstinger, o...</td>\n",
       "      <td>[Romance, Comedy]</td>\n",
       "    </tr>\n",
       "  </tbody>\n",
       "</table>\n",
       "</div>"
      ],
      "text/plain": [
       "              title                                     top3_actors  \\\n",
       "0         Toy Story             [Tom Hanks, Tim Allen, Don Rickles]   \n",
       "1           Jumanji  [Robin Williams, Jonathan Hyde, Kirsten Dunst]   \n",
       "2  Grumpier Old Men      [Walter Matthau, Jack Lemmon, Ann-Margret]   \n",
       "\n",
       "        director                                           keywords  \\\n",
       "0  John Lasseter  [jealousy, toy, boy, friendship, friends, riva...   \n",
       "1   Joe Johnston  [board game, disappearance, based on children'...   \n",
       "2  Howard Deutch  [fishing, best friend, duringcreditsstinger, o...   \n",
       "\n",
       "                        genres1  \n",
       "0   [Animation, Comedy, Family]  \n",
       "1  [Adventure, Fantasy, Family]  \n",
       "2             [Romance, Comedy]  "
      ]
     },
     "execution_count": 36,
     "metadata": {},
     "output_type": "execute_result"
    }
   ],
   "source": [
    "# Print the new features of the first 3 films\n",
    "df_movies_metadata[['title', 'top3_actors', 'director', 'keywords', 'genres1']].head(3)"
   ]
  },
  {
   "cell_type": "markdown",
   "metadata": {},
   "source": [
    "Remove spaces between first and last names so that they are unique and the algorithm doesn't get misled into assuming two people starting with same first name but different last names are similar and related."
   ]
  },
  {
   "cell_type": "code",
   "execution_count": 37,
   "metadata": {
    "tags": []
   },
   "outputs": [],
   "source": [
    "#remove space in names\n",
    "df_movies_metadata['top3_actors1'] = df_movies_metadata['top3_actors'].apply(lambda x: [i.replace(\" \",'') for i in x])\n",
    "df_movies_metadata['director1'] = df_movies_metadata['director'].astype('str').apply(lambda x: x.replace(\" \",''))"
   ]
  },
  {
   "cell_type": "markdown",
   "metadata": {},
   "source": [
    "Let us weight Director more by repeating their names thrice"
   ]
  },
  {
   "cell_type": "code",
   "execution_count": 38,
   "metadata": {
    "tags": []
   },
   "outputs": [
    {
     "data": {
      "text/plain": [
       "0    [JohnLasseter, JohnLasseter, JohnLasseter]\n",
       "1       [JoeJohnston, JoeJohnston, JoeJohnston]\n",
       "Name: director1, dtype: object"
      ]
     },
     "execution_count": 38,
     "metadata": {},
     "output_type": "execute_result"
    }
   ],
   "source": [
    "df_movies_metadata['director1'] = df_movies_metadata['director1'].apply(lambda x: [x,x,x])\n",
    "\n",
    "df_movies_metadata['director1'].head(2)"
   ]
  },
  {
   "cell_type": "markdown",
   "metadata": {},
   "source": [
    "Next step is to remove those words which occur only once in the keywords list as they are not predictive"
   ]
  },
  {
   "cell_type": "code",
   "execution_count": 39,
   "metadata": {},
   "outputs": [],
   "source": [
    "keywords_list = df_movies_metadata.apply(lambda x: pd.Series(x['keywords']),axis=1).stack().reset_index(level=1, drop=True)\n",
    "keywords_list.name = 'keywords'"
   ]
  },
  {
   "cell_type": "code",
   "execution_count": 40,
   "metadata": {},
   "outputs": [
    {
     "data": {
      "text/plain": [
       "woman director      3128\n",
       "independent film    1942\n",
       "murder              1314\n",
       "based on novel       841\n",
       "musical              734\n",
       "                    ... \n",
       "cheyenne               2\n",
       "roller skating         2\n",
       "garbage can            2\n",
       "hearing voices         2\n",
       "rhyme battle           2\n",
       "Name: keywords, Length: 11397, dtype: int64"
      ]
     },
     "execution_count": 40,
     "metadata": {},
     "output_type": "execute_result"
    }
   ],
   "source": [
    "keywords_list = keywords_list.value_counts()\n",
    "keywords_list = keywords_list[keywords_list>1]\n",
    "keywords_list"
   ]
  },
  {
   "cell_type": "code",
   "execution_count": 41,
   "metadata": {},
   "outputs": [
    {
     "data": {
      "text/plain": [
       "'dog'"
      ]
     },
     "execution_count": 41,
     "metadata": {},
     "output_type": "execute_result"
    }
   ],
   "source": [
    "from nltk.stem.snowball import SnowballStemmer\n",
    "stemmer = SnowballStemmer('english')\n",
    "stemmer.stem('dogs')"
   ]
  },
  {
   "cell_type": "code",
   "execution_count": 42,
   "metadata": {},
   "outputs": [],
   "source": [
    "def filter_keywords(x):\n",
    "    words = []\n",
    "    for i in x:\n",
    "        if i in keywords_list:\n",
    "            words.append(i)\n",
    "    return words"
   ]
  },
  {
   "cell_type": "code",
   "execution_count": 43,
   "metadata": {},
   "outputs": [],
   "source": [
    "df_movies_metadata['keywords'] = df_movies_metadata['keywords'].apply(filter_keywords)\n",
    "df_movies_metadata['keywords'] = df_movies_metadata['keywords'].apply(lambda x: [stemmer.stem(i) for i in x])"
   ]
  },
  {
   "cell_type": "code",
   "execution_count": 44,
   "metadata": {},
   "outputs": [],
   "source": [
    "def create_soup(x):\n",
    "    return ' '.join(x['keywords']) + ' ' + ' '.join(x['top3_actors1']) + ' '.join(x['director1']) + ' ' + ' '.join(x['genres1'])\n",
    "df_movies_metadata['soup'] = df_movies_metadata.apply(create_soup, axis=1)"
   ]
  },
  {
   "cell_type": "markdown",
   "metadata": {},
   "source": [
    "We analyze the soup of words the same way we did with the plot earlier. We apply TFIDF transformation to quantify how important each word is across all the documents."
   ]
  },
  {
   "cell_type": "code",
   "execution_count": 45,
   "metadata": {},
   "outputs": [],
   "source": [
    "#Define a TF-IDF Vectorizer Object. Remove all english stop words such as 'the', 'a'\n",
    "tfidf = TfidfVectorizer(analyzer='word',ngram_range=(1, 2),min_df=0,stop_words='english')\n",
    "\n",
    "#Construct the required TF-IDF matrix by fitting and transforming the data\n",
    "tfidf_matrix = tfidf.fit_transform(df_movies_metadata['soup'])\n",
    "\n",
    "#Output the shape of tfidf_matrix\n",
    "tfidf_matrix.shape\n",
    "\n",
    "cosine_sim2 = linear_kernel(tfidf_matrix, tfidf_matrix)"
   ]
  },
  {
   "cell_type": "code",
   "execution_count": 46,
   "metadata": {},
   "outputs": [
    {
     "data": {
      "text/html": [
       "<div>\n",
       "<style scoped>\n",
       "    .dataframe tbody tr th:only-of-type {\n",
       "        vertical-align: middle;\n",
       "    }\n",
       "\n",
       "    .dataframe tbody tr th {\n",
       "        vertical-align: top;\n",
       "    }\n",
       "\n",
       "    .dataframe thead th {\n",
       "        text-align: right;\n",
       "    }\n",
       "</style>\n",
       "<table border=\"1\" class=\"dataframe\">\n",
       "  <thead>\n",
       "    <tr style=\"text-align: right;\">\n",
       "      <th></th>\n",
       "      <th>title</th>\n",
       "      <th>year</th>\n",
       "      <th>director</th>\n",
       "      <th>top3_actors</th>\n",
       "      <th>genres1</th>\n",
       "    </tr>\n",
       "  </thead>\n",
       "  <tbody>\n",
       "    <tr>\n",
       "      <th>12589</th>\n",
       "      <td>The Dark Knight</td>\n",
       "      <td>2008</td>\n",
       "      <td>Christopher Nolan</td>\n",
       "      <td>[Christian Bale, Michael Caine, Heath Ledger]</td>\n",
       "      <td>[Drama, Action, Crime]</td>\n",
       "    </tr>\n",
       "    <tr>\n",
       "      <th>10210</th>\n",
       "      <td>Batman Begins</td>\n",
       "      <td>2005</td>\n",
       "      <td>Christopher Nolan</td>\n",
       "      <td>[Christian Bale, Michael Caine, Liam Neeson]</td>\n",
       "      <td>[Action, Crime, Drama]</td>\n",
       "    </tr>\n",
       "    <tr>\n",
       "      <th>26110</th>\n",
       "      <td>Doodlebug</td>\n",
       "      <td>1997</td>\n",
       "      <td>Christopher Nolan</td>\n",
       "      <td>[Jeremy Theobald]</td>\n",
       "      <td>[Fantasy, Mystery]</td>\n",
       "    </tr>\n",
       "    <tr>\n",
       "      <th>26111</th>\n",
       "      <td>Doodlebug</td>\n",
       "      <td>1997</td>\n",
       "      <td>Christopher Nolan</td>\n",
       "      <td>[Jeremy Theobald]</td>\n",
       "      <td>[Fantasy, Mystery]</td>\n",
       "    </tr>\n",
       "    <tr>\n",
       "      <th>2486</th>\n",
       "      <td>Following</td>\n",
       "      <td>1998</td>\n",
       "      <td>Christopher Nolan</td>\n",
       "      <td>[Jeremy Theobald, Alex Haw, Lucy Russell]</td>\n",
       "      <td>[Crime, Drama, Thriller]</td>\n",
       "    </tr>\n",
       "    <tr>\n",
       "      <th>43147</th>\n",
       "      <td>DC Showcase: Catwoman</td>\n",
       "      <td>2011</td>\n",
       "      <td>Lauren Montgomery</td>\n",
       "      <td>[Eliza Dushku, John DiMaggio, Liliana Mumy]</td>\n",
       "      <td>[Action, Adventure, Animation]</td>\n",
       "    </tr>\n",
       "    <tr>\n",
       "      <th>1349</th>\n",
       "      <td>Batman Returns</td>\n",
       "      <td>1992</td>\n",
       "      <td>Tim Burton</td>\n",
       "      <td>[Michael Keaton, Danny DeVito, Michelle Pfeiffer]</td>\n",
       "      <td>[Action, Fantasy]</td>\n",
       "    </tr>\n",
       "    <tr>\n",
       "      <th>15651</th>\n",
       "      <td>Inception</td>\n",
       "      <td>2010</td>\n",
       "      <td>Christopher Nolan</td>\n",
       "      <td>[Leonardo DiCaprio, Joseph Gordon-Levitt, Elle...</td>\n",
       "      <td>[Action, Thriller, Science Fiction]</td>\n",
       "    </tr>\n",
       "    <tr>\n",
       "      <th>11463</th>\n",
       "      <td>The Prestige</td>\n",
       "      <td>2006</td>\n",
       "      <td>Christopher Nolan</td>\n",
       "      <td>[Hugh Jackman, Christian Bale, Michael Caine]</td>\n",
       "      <td>[Drama, Mystery, Thriller]</td>\n",
       "    </tr>\n",
       "    <tr>\n",
       "      <th>1511</th>\n",
       "      <td>Batman &amp; Robin</td>\n",
       "      <td>1997</td>\n",
       "      <td>Joel Schumacher</td>\n",
       "      <td>[George Clooney, Chris O'Donnell, Arnold Schwa...</td>\n",
       "      <td>[Action, Crime, Fantasy]</td>\n",
       "    </tr>\n",
       "  </tbody>\n",
       "</table>\n",
       "</div>"
      ],
      "text/plain": [
       "                       title  year           director  \\\n",
       "12589        The Dark Knight  2008  Christopher Nolan   \n",
       "10210          Batman Begins  2005  Christopher Nolan   \n",
       "26110              Doodlebug  1997  Christopher Nolan   \n",
       "26111              Doodlebug  1997  Christopher Nolan   \n",
       "2486               Following  1998  Christopher Nolan   \n",
       "43147  DC Showcase: Catwoman  2011  Lauren Montgomery   \n",
       "1349          Batman Returns  1992         Tim Burton   \n",
       "15651              Inception  2010  Christopher Nolan   \n",
       "11463           The Prestige  2006  Christopher Nolan   \n",
       "1511          Batman & Robin  1997    Joel Schumacher   \n",
       "\n",
       "                                             top3_actors  \\\n",
       "12589      [Christian Bale, Michael Caine, Heath Ledger]   \n",
       "10210       [Christian Bale, Michael Caine, Liam Neeson]   \n",
       "26110                                  [Jeremy Theobald]   \n",
       "26111                                  [Jeremy Theobald]   \n",
       "2486           [Jeremy Theobald, Alex Haw, Lucy Russell]   \n",
       "43147        [Eliza Dushku, John DiMaggio, Liliana Mumy]   \n",
       "1349   [Michael Keaton, Danny DeVito, Michelle Pfeiffer]   \n",
       "15651  [Leonardo DiCaprio, Joseph Gordon-Levitt, Elle...   \n",
       "11463      [Hugh Jackman, Christian Bale, Michael Caine]   \n",
       "1511   [George Clooney, Chris O'Donnell, Arnold Schwa...   \n",
       "\n",
       "                                   genres1  \n",
       "12589               [Drama, Action, Crime]  \n",
       "10210               [Action, Crime, Drama]  \n",
       "26110                   [Fantasy, Mystery]  \n",
       "26111                   [Fantasy, Mystery]  \n",
       "2486              [Crime, Drama, Thriller]  \n",
       "43147       [Action, Adventure, Animation]  \n",
       "1349                     [Action, Fantasy]  \n",
       "15651  [Action, Thriller, Science Fiction]  \n",
       "11463           [Drama, Mystery, Thriller]  \n",
       "1511              [Action, Crime, Fantasy]  "
      ]
     },
     "execution_count": 46,
     "metadata": {},
     "output_type": "execute_result"
    }
   ],
   "source": [
    "#Top 10 movies similar to the movie - The Dark Knight Rises\n",
    "get_recommendations('The Dark Knight Rises',cosine_sim2)"
   ]
  },
  {
   "cell_type": "markdown",
   "metadata": {},
   "source": [
    "Let's try using count vectorize instead of TFIDF and check our results"
   ]
  },
  {
   "cell_type": "code",
   "execution_count": 47,
   "metadata": {},
   "outputs": [],
   "source": [
    "count = CountVectorizer(stop_words='english')\n",
    "\n",
    "# count = CountVectorizer(analyzer='word',ngram_range=(1, 2),min_df=0, stop_words='english')\n",
    "count_matrix = count.fit_transform(df_movies_metadata['soup'])\n",
    "\n",
    "cosine_sim3 = cosine_similarity(count_matrix, count_matrix)"
   ]
  },
  {
   "cell_type": "code",
   "execution_count": 48,
   "metadata": {},
   "outputs": [
    {
     "data": {
      "text/html": [
       "<div>\n",
       "<style scoped>\n",
       "    .dataframe tbody tr th:only-of-type {\n",
       "        vertical-align: middle;\n",
       "    }\n",
       "\n",
       "    .dataframe tbody tr th {\n",
       "        vertical-align: top;\n",
       "    }\n",
       "\n",
       "    .dataframe thead th {\n",
       "        text-align: right;\n",
       "    }\n",
       "</style>\n",
       "<table border=\"1\" class=\"dataframe\">\n",
       "  <thead>\n",
       "    <tr style=\"text-align: right;\">\n",
       "      <th></th>\n",
       "      <th>title</th>\n",
       "      <th>year</th>\n",
       "      <th>director</th>\n",
       "      <th>top3_actors</th>\n",
       "      <th>genres1</th>\n",
       "    </tr>\n",
       "  </thead>\n",
       "  <tbody>\n",
       "    <tr>\n",
       "      <th>12589</th>\n",
       "      <td>The Dark Knight</td>\n",
       "      <td>2008</td>\n",
       "      <td>Christopher Nolan</td>\n",
       "      <td>[Christian Bale, Michael Caine, Heath Ledger]</td>\n",
       "      <td>[Drama, Action, Crime]</td>\n",
       "    </tr>\n",
       "    <tr>\n",
       "      <th>10210</th>\n",
       "      <td>Batman Begins</td>\n",
       "      <td>2005</td>\n",
       "      <td>Christopher Nolan</td>\n",
       "      <td>[Christian Bale, Michael Caine, Liam Neeson]</td>\n",
       "      <td>[Action, Crime, Drama]</td>\n",
       "    </tr>\n",
       "    <tr>\n",
       "      <th>2486</th>\n",
       "      <td>Following</td>\n",
       "      <td>1998</td>\n",
       "      <td>Christopher Nolan</td>\n",
       "      <td>[Jeremy Theobald, Alex Haw, Lucy Russell]</td>\n",
       "      <td>[Crime, Drama, Thriller]</td>\n",
       "    </tr>\n",
       "    <tr>\n",
       "      <th>1511</th>\n",
       "      <td>Batman &amp; Robin</td>\n",
       "      <td>1997</td>\n",
       "      <td>Joel Schumacher</td>\n",
       "      <td>[George Clooney, Chris O'Donnell, Arnold Schwa...</td>\n",
       "      <td>[Action, Crime, Fantasy]</td>\n",
       "    </tr>\n",
       "    <tr>\n",
       "      <th>21616</th>\n",
       "      <td>Kick-Ass 2</td>\n",
       "      <td>2013</td>\n",
       "      <td>Jeff Wadlow</td>\n",
       "      <td>[Aaron Taylor-Johnson, Chloë Grace Moretz, Chr...</td>\n",
       "      <td>[Action, Adventure, Crime]</td>\n",
       "    </tr>\n",
       "    <tr>\n",
       "      <th>5094</th>\n",
       "      <td>Hero at Large</td>\n",
       "      <td>1980</td>\n",
       "      <td>Martin Davidson</td>\n",
       "      <td>[John Ritter, Anne Archer, Bert Convy]</td>\n",
       "      <td>[Action, Comedy, Drama]</td>\n",
       "    </tr>\n",
       "    <tr>\n",
       "      <th>9311</th>\n",
       "      <td>Shiner</td>\n",
       "      <td>2000</td>\n",
       "      <td>John Irvin</td>\n",
       "      <td>[Michael Caine, Martin Landau, Andy Serkis]</td>\n",
       "      <td>[Drama, Action, Crime]</td>\n",
       "    </tr>\n",
       "    <tr>\n",
       "      <th>15184</th>\n",
       "      <td>Defendor</td>\n",
       "      <td>2009</td>\n",
       "      <td>Peter Stebbings</td>\n",
       "      <td>[Woody Harrelson, Kat Dennings, Elias Koteas]</td>\n",
       "      <td>[Drama, Action, Comedy]</td>\n",
       "    </tr>\n",
       "    <tr>\n",
       "      <th>585</th>\n",
       "      <td>Batman</td>\n",
       "      <td>1989</td>\n",
       "      <td>Tim Burton</td>\n",
       "      <td>[Jack Nicholson, Michael Keaton, Kim Basinger]</td>\n",
       "      <td>[Fantasy, Action]</td>\n",
       "    </tr>\n",
       "    <tr>\n",
       "      <th>30753</th>\n",
       "      <td>Suicide Squad</td>\n",
       "      <td>2016</td>\n",
       "      <td>David Ayer</td>\n",
       "      <td>[Will Smith, Margot Robbie, Joel Kinnaman]</td>\n",
       "      <td>[Action, Adventure, Crime]</td>\n",
       "    </tr>\n",
       "  </tbody>\n",
       "</table>\n",
       "</div>"
      ],
      "text/plain": [
       "                 title  year           director  \\\n",
       "12589  The Dark Knight  2008  Christopher Nolan   \n",
       "10210    Batman Begins  2005  Christopher Nolan   \n",
       "2486         Following  1998  Christopher Nolan   \n",
       "1511    Batman & Robin  1997    Joel Schumacher   \n",
       "21616       Kick-Ass 2  2013        Jeff Wadlow   \n",
       "5094     Hero at Large  1980    Martin Davidson   \n",
       "9311            Shiner  2000         John Irvin   \n",
       "15184         Defendor  2009    Peter Stebbings   \n",
       "585             Batman  1989         Tim Burton   \n",
       "30753    Suicide Squad  2016         David Ayer   \n",
       "\n",
       "                                             top3_actors  \\\n",
       "12589      [Christian Bale, Michael Caine, Heath Ledger]   \n",
       "10210       [Christian Bale, Michael Caine, Liam Neeson]   \n",
       "2486           [Jeremy Theobald, Alex Haw, Lucy Russell]   \n",
       "1511   [George Clooney, Chris O'Donnell, Arnold Schwa...   \n",
       "21616  [Aaron Taylor-Johnson, Chloë Grace Moretz, Chr...   \n",
       "5094              [John Ritter, Anne Archer, Bert Convy]   \n",
       "9311         [Michael Caine, Martin Landau, Andy Serkis]   \n",
       "15184      [Woody Harrelson, Kat Dennings, Elias Koteas]   \n",
       "585       [Jack Nicholson, Michael Keaton, Kim Basinger]   \n",
       "30753         [Will Smith, Margot Robbie, Joel Kinnaman]   \n",
       "\n",
       "                          genres1  \n",
       "12589      [Drama, Action, Crime]  \n",
       "10210      [Action, Crime, Drama]  \n",
       "2486     [Crime, Drama, Thriller]  \n",
       "1511     [Action, Crime, Fantasy]  \n",
       "21616  [Action, Adventure, Crime]  \n",
       "5094      [Action, Comedy, Drama]  \n",
       "9311       [Drama, Action, Crime]  \n",
       "15184     [Drama, Action, Comedy]  \n",
       "585             [Fantasy, Action]  \n",
       "30753  [Action, Adventure, Crime]  "
      ]
     },
     "execution_count": 48,
     "metadata": {},
     "output_type": "execute_result"
    }
   ],
   "source": [
    "#Top 10 movies similar to the movie - The Dark Knight Rises\n",
    "get_recommendations('The Dark Knight Rises',cosine_sim3)"
   ]
  },
  {
   "cell_type": "markdown",
   "metadata": {},
   "source": [
    "When we compare the results of TDIDF to that of the count vectors, we can see that the results presented by TDIDF gives better **\"similar\"** movies"
   ]
  },
  {
   "cell_type": "markdown",
   "metadata": {},
   "source": [
    "### Collaborative Filtering"
   ]
  },
  {
   "cell_type": "markdown",
   "metadata": {},
   "source": [
    "While, the above recommendation techniques are alright, they do not take into account the individual viewers choices and biases. Therefore, they are not good for personalization.\n",
    "\n",
    "In collaborative filtering, we make use of viwers past ratings of the movies they have watched and recommend similar movies. If a viewer $X$ has not rated a particular movie yet, we find a look-alike users who have rated the said movie and make ratings predictions for the viewer $X$.\n",
    "\n",
    "The utility matrix of vievwers vs movies containing ratings is created and utilized for making recommendations. We find similarity between users and similarities in movies to make predictions.\n",
    "<div>\n",
    "<img src=\"images/google_recommendations.png\" width=\"500\"/>\n",
    "</div>\n",
    "\n",
    "\\\n",
    "Since the utility matrix can become very large with order $O(M.N) where M is number of viewers and N is number of movies, processing it can become slow. Moreover, the matrix can be sparse and it can become inefficient to store it in its entirily. We make use of singular value decomposition to reduce the matrix reduce the dimensionality of the matrix and only keep the smaller set of significant latent factors which makes a close approximation of the full matrix."
   ]
  },
  {
   "cell_type": "code",
   "execution_count": 130,
   "metadata": {},
   "outputs": [
    {
     "data": {
      "text/html": [
       "<div>\n",
       "<style scoped>\n",
       "    .dataframe tbody tr th:only-of-type {\n",
       "        vertical-align: middle;\n",
       "    }\n",
       "\n",
       "    .dataframe tbody tr th {\n",
       "        vertical-align: top;\n",
       "    }\n",
       "\n",
       "    .dataframe thead th {\n",
       "        text-align: right;\n",
       "    }\n",
       "</style>\n",
       "<table border=\"1\" class=\"dataframe\">\n",
       "  <thead>\n",
       "    <tr style=\"text-align: right;\">\n",
       "      <th></th>\n",
       "      <th>userId</th>\n",
       "      <th>movieId</th>\n",
       "      <th>rating</th>\n",
       "      <th>timestamp</th>\n",
       "    </tr>\n",
       "  </thead>\n",
       "  <tbody>\n",
       "    <tr>\n",
       "      <th>0</th>\n",
       "      <td>1</td>\n",
       "      <td>110</td>\n",
       "      <td>1.0</td>\n",
       "      <td>1425941529</td>\n",
       "    </tr>\n",
       "    <tr>\n",
       "      <th>1</th>\n",
       "      <td>1</td>\n",
       "      <td>147</td>\n",
       "      <td>4.5</td>\n",
       "      <td>1425942435</td>\n",
       "    </tr>\n",
       "    <tr>\n",
       "      <th>2</th>\n",
       "      <td>1</td>\n",
       "      <td>858</td>\n",
       "      <td>5.0</td>\n",
       "      <td>1425941523</td>\n",
       "    </tr>\n",
       "    <tr>\n",
       "      <th>3</th>\n",
       "      <td>1</td>\n",
       "      <td>1221</td>\n",
       "      <td>5.0</td>\n",
       "      <td>1425941546</td>\n",
       "    </tr>\n",
       "    <tr>\n",
       "      <th>4</th>\n",
       "      <td>1</td>\n",
       "      <td>1246</td>\n",
       "      <td>5.0</td>\n",
       "      <td>1425941556</td>\n",
       "    </tr>\n",
       "  </tbody>\n",
       "</table>\n",
       "</div>"
      ],
      "text/plain": [
       "   userId  movieId  rating   timestamp\n",
       "0       1      110     1.0  1425941529\n",
       "1       1      147     4.5  1425942435\n",
       "2       1      858     5.0  1425941523\n",
       "3       1     1221     5.0  1425941546\n",
       "4       1     1246     5.0  1425941556"
      ]
     },
     "execution_count": 130,
     "metadata": {},
     "output_type": "execute_result"
    }
   ],
   "source": [
    "#Instantiate a reader.\n",
    "reader = Reader()\n",
    "\n",
    "#load ratings file which contains users, movies and the ratings\n",
    "ratings = pd.read_csv('/home/jupyter/recommendation_systems/movie_recommender/input/ratings.csv')\n",
    "ratings.head()"
   ]
  },
  {
   "cell_type": "code",
   "execution_count": 131,
   "metadata": {},
   "outputs": [],
   "source": [
    "id_map = pd.read_csv('/home/jupyter/recommendation_systems/movie_recommender/input/links.csv')[['movieId', 'tmdbId']]"
   ]
  },
  {
   "cell_type": "code",
   "execution_count": 132,
   "metadata": {},
   "outputs": [
    {
     "data": {
      "text/html": [
       "<div>\n",
       "<style scoped>\n",
       "    .dataframe tbody tr th:only-of-type {\n",
       "        vertical-align: middle;\n",
       "    }\n",
       "\n",
       "    .dataframe tbody tr th {\n",
       "        vertical-align: top;\n",
       "    }\n",
       "\n",
       "    .dataframe thead th {\n",
       "        text-align: right;\n",
       "    }\n",
       "</style>\n",
       "<table border=\"1\" class=\"dataframe\">\n",
       "  <thead>\n",
       "    <tr style=\"text-align: right;\">\n",
       "      <th></th>\n",
       "      <th>adult</th>\n",
       "      <th>belongs_to_collection</th>\n",
       "      <th>budget</th>\n",
       "      <th>genres</th>\n",
       "      <th>homepage</th>\n",
       "      <th>id</th>\n",
       "      <th>imdb_id</th>\n",
       "      <th>original_language</th>\n",
       "      <th>original_title</th>\n",
       "      <th>overview</th>\n",
       "      <th>...</th>\n",
       "      <th>year</th>\n",
       "      <th>genres1</th>\n",
       "      <th>plot</th>\n",
       "      <th>director</th>\n",
       "      <th>top3_actors</th>\n",
       "      <th>top3_actors1</th>\n",
       "      <th>director1</th>\n",
       "      <th>soup</th>\n",
       "      <th>movieId</th>\n",
       "      <th>tmdbId</th>\n",
       "    </tr>\n",
       "  </thead>\n",
       "  <tbody>\n",
       "    <tr>\n",
       "      <th>0</th>\n",
       "      <td>False</td>\n",
       "      <td>{'id': 10194, 'name': 'Toy Story Collection', ...</td>\n",
       "      <td>30000000</td>\n",
       "      <td>[{'id': 16, 'name': 'Animation'}, {'id': 35, '...</td>\n",
       "      <td>http://toystory.disney.com/toy-story</td>\n",
       "      <td>862</td>\n",
       "      <td>tt0114709</td>\n",
       "      <td>en</td>\n",
       "      <td>Toy Story</td>\n",
       "      <td>Led by Woody, Andy's toys live happily in his ...</td>\n",
       "      <td>...</td>\n",
       "      <td>1995</td>\n",
       "      <td>[Animation, Comedy, Family]</td>\n",
       "      <td></td>\n",
       "      <td>John Lasseter</td>\n",
       "      <td>[Tom Hanks, Tim Allen, Don Rickles]</td>\n",
       "      <td>[TomHanks, TimAllen, DonRickles]</td>\n",
       "      <td>[JohnLasseter, JohnLasseter, JohnLasseter]</td>\n",
       "      <td>jealousi toy boy friendship friend rivalri boy...</td>\n",
       "      <td>862</td>\n",
       "      <td>88224.0</td>\n",
       "    </tr>\n",
       "    <tr>\n",
       "      <th>1</th>\n",
       "      <td>False</td>\n",
       "      <td>NaN</td>\n",
       "      <td>65000000</td>\n",
       "      <td>[{'id': 12, 'name': 'Adventure'}, {'id': 14, '...</td>\n",
       "      <td>NaN</td>\n",
       "      <td>8844</td>\n",
       "      <td>tt0113497</td>\n",
       "      <td>en</td>\n",
       "      <td>Jumanji</td>\n",
       "      <td>When siblings Judy and Peter discover an encha...</td>\n",
       "      <td>...</td>\n",
       "      <td>1995</td>\n",
       "      <td>[Adventure, Fantasy, Family]</td>\n",
       "      <td>Roll the dice and unleash the excitement! When...</td>\n",
       "      <td>Joe Johnston</td>\n",
       "      <td>[Robin Williams, Jonathan Hyde, Kirsten Dunst]</td>\n",
       "      <td>[RobinWilliams, JonathanHyde, KirstenDunst]</td>\n",
       "      <td>[JoeJohnston, JoeJohnston, JoeJohnston]</td>\n",
       "      <td>board gam disappear based on children's book n...</td>\n",
       "      <td>8844</td>\n",
       "      <td>42164.0</td>\n",
       "    </tr>\n",
       "    <tr>\n",
       "      <th>2</th>\n",
       "      <td>False</td>\n",
       "      <td>NaN</td>\n",
       "      <td>60000000</td>\n",
       "      <td>[{'id': 28, 'name': 'Action'}, {'id': 80, 'nam...</td>\n",
       "      <td>NaN</td>\n",
       "      <td>949</td>\n",
       "      <td>tt0113277</td>\n",
       "      <td>en</td>\n",
       "      <td>Heat</td>\n",
       "      <td>Obsessive master thief, Neil McCauley leads a ...</td>\n",
       "      <td>...</td>\n",
       "      <td>1995</td>\n",
       "      <td>[Action, Crime, Drama]</td>\n",
       "      <td>A Los Angeles Crime Saga Obsessive master thie...</td>\n",
       "      <td>Michael Mann</td>\n",
       "      <td>[Al Pacino, Robert De Niro, Val Kilmer]</td>\n",
       "      <td>[AlPacino, RobertDeNiro, ValKilmer]</td>\n",
       "      <td>[MichaelMann, MichaelMann, MichaelMann]</td>\n",
       "      <td>robberi detect bank obsess chase shoot thief h...</td>\n",
       "      <td>949</td>\n",
       "      <td>220.0</td>\n",
       "    </tr>\n",
       "    <tr>\n",
       "      <th>3</th>\n",
       "      <td>False</td>\n",
       "      <td>{'id': 645, 'name': 'James Bond Collection', '...</td>\n",
       "      <td>58000000</td>\n",
       "      <td>[{'id': 12, 'name': 'Adventure'}, {'id': 28, '...</td>\n",
       "      <td>http://www.mgm.com/view/movie/757/Goldeneye/</td>\n",
       "      <td>710</td>\n",
       "      <td>tt0113189</td>\n",
       "      <td>en</td>\n",
       "      <td>GoldenEye</td>\n",
       "      <td>James Bond must unmask the mysterious head of ...</td>\n",
       "      <td>...</td>\n",
       "      <td>1995</td>\n",
       "      <td>[Adventure, Action, Thriller]</td>\n",
       "      <td>No limits. No fears. No substitutes. James Bon...</td>\n",
       "      <td>Martin Campbell</td>\n",
       "      <td>[Pierce Brosnan, Sean Bean, Izabella Scorupco]</td>\n",
       "      <td>[PierceBrosnan, SeanBean, IzabellaScorupco]</td>\n",
       "      <td>[MartinCampbell, MartinCampbell, MartinCampbell]</td>\n",
       "      <td>cuba falsely accus secret ident computer virus...</td>\n",
       "      <td>710</td>\n",
       "      <td>23449.0</td>\n",
       "    </tr>\n",
       "    <tr>\n",
       "      <th>4</th>\n",
       "      <td>False</td>\n",
       "      <td>NaN</td>\n",
       "      <td>98000000</td>\n",
       "      <td>[{'id': 28, 'name': 'Action'}, {'id': 12, 'nam...</td>\n",
       "      <td>NaN</td>\n",
       "      <td>1408</td>\n",
       "      <td>tt0112760</td>\n",
       "      <td>en</td>\n",
       "      <td>Cutthroat Island</td>\n",
       "      <td>Morgan Adams and her slave, William Shaw, are ...</td>\n",
       "      <td>...</td>\n",
       "      <td>1995</td>\n",
       "      <td>[Action, Adventure]</td>\n",
       "      <td>The Course Has Been Set. There Is No Turning B...</td>\n",
       "      <td>Renny Harlin</td>\n",
       "      <td>[Geena Davis, Matthew Modine, Frank Langella]</td>\n",
       "      <td>[GeenaDavis, MatthewModine, FrankLangella]</td>\n",
       "      <td>[RennyHarlin, RennyHarlin, RennyHarlin]</td>\n",
       "      <td>exotic island treasur map ship scalp pirat Gee...</td>\n",
       "      <td>1408</td>\n",
       "      <td>9361.0</td>\n",
       "    </tr>\n",
       "  </tbody>\n",
       "</table>\n",
       "<p>5 rows × 37 columns</p>\n",
       "</div>"
      ],
      "text/plain": [
       "   adult                              belongs_to_collection    budget  \\\n",
       "0  False  {'id': 10194, 'name': 'Toy Story Collection', ...  30000000   \n",
       "1  False                                                NaN  65000000   \n",
       "2  False                                                NaN  60000000   \n",
       "3  False  {'id': 645, 'name': 'James Bond Collection', '...  58000000   \n",
       "4  False                                                NaN  98000000   \n",
       "\n",
       "                                              genres  \\\n",
       "0  [{'id': 16, 'name': 'Animation'}, {'id': 35, '...   \n",
       "1  [{'id': 12, 'name': 'Adventure'}, {'id': 14, '...   \n",
       "2  [{'id': 28, 'name': 'Action'}, {'id': 80, 'nam...   \n",
       "3  [{'id': 12, 'name': 'Adventure'}, {'id': 28, '...   \n",
       "4  [{'id': 28, 'name': 'Action'}, {'id': 12, 'nam...   \n",
       "\n",
       "                                       homepage    id    imdb_id  \\\n",
       "0          http://toystory.disney.com/toy-story   862  tt0114709   \n",
       "1                                           NaN  8844  tt0113497   \n",
       "2                                           NaN   949  tt0113277   \n",
       "3  http://www.mgm.com/view/movie/757/Goldeneye/   710  tt0113189   \n",
       "4                                           NaN  1408  tt0112760   \n",
       "\n",
       "  original_language    original_title  \\\n",
       "0                en         Toy Story   \n",
       "1                en           Jumanji   \n",
       "2                en              Heat   \n",
       "3                en         GoldenEye   \n",
       "4                en  Cutthroat Island   \n",
       "\n",
       "                                            overview  ...  year  \\\n",
       "0  Led by Woody, Andy's toys live happily in his ...  ...  1995   \n",
       "1  When siblings Judy and Peter discover an encha...  ...  1995   \n",
       "2  Obsessive master thief, Neil McCauley leads a ...  ...  1995   \n",
       "3  James Bond must unmask the mysterious head of ...  ...  1995   \n",
       "4  Morgan Adams and her slave, William Shaw, are ...  ...  1995   \n",
       "\n",
       "                         genres1  \\\n",
       "0    [Animation, Comedy, Family]   \n",
       "1   [Adventure, Fantasy, Family]   \n",
       "2         [Action, Crime, Drama]   \n",
       "3  [Adventure, Action, Thriller]   \n",
       "4            [Action, Adventure]   \n",
       "\n",
       "                                                plot         director  \\\n",
       "0                                                       John Lasseter   \n",
       "1  Roll the dice and unleash the excitement! When...     Joe Johnston   \n",
       "2  A Los Angeles Crime Saga Obsessive master thie...     Michael Mann   \n",
       "3  No limits. No fears. No substitutes. James Bon...  Martin Campbell   \n",
       "4  The Course Has Been Set. There Is No Turning B...     Renny Harlin   \n",
       "\n",
       "                                      top3_actors  \\\n",
       "0             [Tom Hanks, Tim Allen, Don Rickles]   \n",
       "1  [Robin Williams, Jonathan Hyde, Kirsten Dunst]   \n",
       "2         [Al Pacino, Robert De Niro, Val Kilmer]   \n",
       "3  [Pierce Brosnan, Sean Bean, Izabella Scorupco]   \n",
       "4   [Geena Davis, Matthew Modine, Frank Langella]   \n",
       "\n",
       "                                  top3_actors1  \\\n",
       "0             [TomHanks, TimAllen, DonRickles]   \n",
       "1  [RobinWilliams, JonathanHyde, KirstenDunst]   \n",
       "2          [AlPacino, RobertDeNiro, ValKilmer]   \n",
       "3  [PierceBrosnan, SeanBean, IzabellaScorupco]   \n",
       "4   [GeenaDavis, MatthewModine, FrankLangella]   \n",
       "\n",
       "                                          director1  \\\n",
       "0        [JohnLasseter, JohnLasseter, JohnLasseter]   \n",
       "1           [JoeJohnston, JoeJohnston, JoeJohnston]   \n",
       "2           [MichaelMann, MichaelMann, MichaelMann]   \n",
       "3  [MartinCampbell, MartinCampbell, MartinCampbell]   \n",
       "4           [RennyHarlin, RennyHarlin, RennyHarlin]   \n",
       "\n",
       "                                                soup movieId   tmdbId  \n",
       "0  jealousi toy boy friendship friend rivalri boy...     862  88224.0  \n",
       "1  board gam disappear based on children's book n...    8844  42164.0  \n",
       "2  robberi detect bank obsess chase shoot thief h...     949    220.0  \n",
       "3  cuba falsely accus secret ident computer virus...     710  23449.0  \n",
       "4  exotic island treasur map ship scalp pirat Gee...    1408   9361.0  \n",
       "\n",
       "[5 rows x 37 columns]"
      ]
     },
     "execution_count": 132,
     "metadata": {},
     "output_type": "execute_result"
    }
   ],
   "source": [
    "df_movies_metadata_small = pd.merge(df_movies_metadata,id_map,left_on = 'id',right_on = 'movieId')\n",
    "df_movies_metadata_small.head()"
   ]
  },
  {
   "cell_type": "code",
   "execution_count": null,
   "metadata": {},
   "outputs": [],
   "source": [
    "data = Dataset.load_from_df(ratings[['userId', 'movieId', 'rating']], reader)\n",
    "svd = SVD()\n",
    "cross_validate(svd, data, measures=['RMSE', 'MAE'], cv=5, verbose=True)"
   ]
  },
  {
   "cell_type": "code",
   "execution_count": null,
   "metadata": {},
   "outputs": [],
   "source": [
    "# sample random trainset and testset\n",
    "# test set is made of 25% of the ratings.\n",
    "trainset, testset = train_test_split(data, test_size=0.25)\n",
    "\n",
    "# We'll use the famous SVD algorithm.\n",
    "algo = SVD()\n",
    "\n",
    "# Train the algorithm on the trainset, and predict ratings for the testset\n",
    "algo.fit(trainset)\n",
    "predictions = algo.test(testset)\n",
    "\n",
    "# Then compute RMSE\n",
    "accuracy.rmse(predictions)"
   ]
  },
  {
   "cell_type": "code",
   "execution_count": 147,
   "metadata": {},
   "outputs": [],
   "source": [
    "predictions = algo.fit(trainset).test(testset)"
   ]
  },
  {
   "cell_type": "code",
   "execution_count": 205,
   "metadata": {},
   "outputs": [
    {
     "data": {
      "text/html": [
       "<div>\n",
       "<style scoped>\n",
       "    .dataframe tbody tr th:only-of-type {\n",
       "        vertical-align: middle;\n",
       "    }\n",
       "\n",
       "    .dataframe tbody tr th {\n",
       "        vertical-align: top;\n",
       "    }\n",
       "\n",
       "    .dataframe thead th {\n",
       "        text-align: right;\n",
       "    }\n",
       "</style>\n",
       "<table border=\"1\" class=\"dataframe\">\n",
       "  <thead>\n",
       "    <tr style=\"text-align: right;\">\n",
       "      <th></th>\n",
       "      <th>userId</th>\n",
       "      <th>movieId</th>\n",
       "      <th>rating</th>\n",
       "      <th>timestamp</th>\n",
       "    </tr>\n",
       "  </thead>\n",
       "  <tbody>\n",
       "    <tr>\n",
       "      <th>0</th>\n",
       "      <td>1</td>\n",
       "      <td>110</td>\n",
       "      <td>1.0</td>\n",
       "      <td>1425941529</td>\n",
       "    </tr>\n",
       "    <tr>\n",
       "      <th>1</th>\n",
       "      <td>1</td>\n",
       "      <td>147</td>\n",
       "      <td>4.5</td>\n",
       "      <td>1425942435</td>\n",
       "    </tr>\n",
       "    <tr>\n",
       "      <th>2</th>\n",
       "      <td>1</td>\n",
       "      <td>858</td>\n",
       "      <td>5.0</td>\n",
       "      <td>1425941523</td>\n",
       "    </tr>\n",
       "    <tr>\n",
       "      <th>3</th>\n",
       "      <td>1</td>\n",
       "      <td>1221</td>\n",
       "      <td>5.0</td>\n",
       "      <td>1425941546</td>\n",
       "    </tr>\n",
       "    <tr>\n",
       "      <th>4</th>\n",
       "      <td>1</td>\n",
       "      <td>1246</td>\n",
       "      <td>5.0</td>\n",
       "      <td>1425941556</td>\n",
       "    </tr>\n",
       "  </tbody>\n",
       "</table>\n",
       "</div>"
      ],
      "text/plain": [
       "   userId  movieId  rating   timestamp\n",
       "0       1      110     1.0  1425941529\n",
       "1       1      147     4.5  1425942435\n",
       "2       1      858     5.0  1425941523\n",
       "3       1     1221     5.0  1425941546\n",
       "4       1     1246     5.0  1425941556"
      ]
     },
     "execution_count": 205,
     "metadata": {},
     "output_type": "execute_result"
    }
   ],
   "source": [
    "ratings[ratings['userId'] == 1].head()"
   ]
  },
  {
   "cell_type": "code",
   "execution_count": 152,
   "metadata": {},
   "outputs": [
    {
     "data": {
      "text/plain": [
       "Prediction(uid=1, iid=302, r_ui=3, est=3.9519879413221553, details={'was_impossible': False})"
      ]
     },
     "execution_count": 152,
     "metadata": {},
     "output_type": "execute_result"
    }
   ],
   "source": [
    "svd.predict(1, 302, 3)"
   ]
  },
  {
   "cell_type": "code",
   "execution_count": 153,
   "metadata": {},
   "outputs": [],
   "source": [
    "def convert_int(x):\n",
    "    try:\n",
    "        return int(x)\n",
    "    except:\n",
    "        return np.nan"
   ]
  },
  {
   "cell_type": "code",
   "execution_count": 154,
   "metadata": {},
   "outputs": [],
   "source": [
    "df_movies_metadata.rename(columns={'movie_id':'id'},inplace=True)"
   ]
  },
  {
   "cell_type": "code",
   "execution_count": 183,
   "metadata": {},
   "outputs": [],
   "source": [
    "id_map = pd.read_csv('/home/jupyter/recommendation_systems/movie_recommender/input/links.csv')[['movieId', 'tmdbId']]\n",
    "id_map['tmdbId'] = id_map['tmdbId'].apply(convert_int)\n",
    "id_map.columns = ['movieId', 'id']\n",
    "id_map = id_map.merge(df_movies_metadata[['title', 'id']], on='id').set_index('title')"
   ]
  },
  {
   "cell_type": "code",
   "execution_count": 184,
   "metadata": {},
   "outputs": [],
   "source": [
    "indices_map = id_map.set_index('id')"
   ]
  },
  {
   "cell_type": "code",
   "execution_count": 198,
   "metadata": {},
   "outputs": [],
   "source": [
    "def hybrid(userId, title):\n",
    "    idx= df_movies_metadata[df_movies_metadata['title'] == title].sort_values(by='popularity', ascending=False).index[0]\n",
    "    tmdbId = id_map.loc[title]['id']\n",
    "    #print(idx)\n",
    "    movie_id = id_map.loc[title]['movieId']\n",
    "    \n",
    "    sim_scores = list(enumerate(cosine_sim[int(idx)]))\n",
    "    sim_scores = sorted(sim_scores, key=lambda x: x[1], reverse=True)\n",
    "    sim_scores = sim_scores[1:26]\n",
    "    movie_indices = [i[0] for i in sim_scores]\n",
    "    \n",
    "    movies = df_movies_metadata.iloc[movie_indices][['title', 'top3_actors', 'director', 'genres1','year','id']]\n",
    "    movies['est'] = movies['id'].apply(lambda x: svd.predict(userId, indices_map.loc[x]['movieId']).est)\n",
    "    movies = movies.sort_values('est', ascending=False)\n",
    "    return movies[['title','year','director','top3_actors', 'genres1']].head(10)"
   ]
  },
  {
   "cell_type": "code",
   "execution_count": 204,
   "metadata": {},
   "outputs": [
    {
     "data": {
      "text/html": [
       "<div>\n",
       "<style scoped>\n",
       "    .dataframe tbody tr th:only-of-type {\n",
       "        vertical-align: middle;\n",
       "    }\n",
       "\n",
       "    .dataframe tbody tr th {\n",
       "        vertical-align: top;\n",
       "    }\n",
       "\n",
       "    .dataframe thead th {\n",
       "        text-align: right;\n",
       "    }\n",
       "</style>\n",
       "<table border=\"1\" class=\"dataframe\">\n",
       "  <thead>\n",
       "    <tr style=\"text-align: right;\">\n",
       "      <th></th>\n",
       "      <th>title</th>\n",
       "      <th>year</th>\n",
       "      <th>director</th>\n",
       "      <th>top3_actors</th>\n",
       "      <th>genres1</th>\n",
       "    </tr>\n",
       "  </thead>\n",
       "  <tbody>\n",
       "    <tr>\n",
       "      <th>18448</th>\n",
       "      <td>Sherlock Holmes: A Game of Shadows</td>\n",
       "      <td>2011</td>\n",
       "      <td>Guy Ritchie</td>\n",
       "      <td>[Robert Downey Jr., Jude Law, Jared Harris]</td>\n",
       "      <td>[Adventure, Action, Crime]</td>\n",
       "    </tr>\n",
       "    <tr>\n",
       "      <th>10210</th>\n",
       "      <td>Batman Begins</td>\n",
       "      <td>2005</td>\n",
       "      <td>Christopher Nolan</td>\n",
       "      <td>[Christian Bale, Michael Caine, Liam Neeson]</td>\n",
       "      <td>[Action, Crime, Drama]</td>\n",
       "    </tr>\n",
       "    <tr>\n",
       "      <th>19981</th>\n",
       "      <td>Batman: The Dark Knight Returns, Part 1</td>\n",
       "      <td>2012</td>\n",
       "      <td>Jay Oliva</td>\n",
       "      <td>[Peter Weller, Ariel Winter, David Selby]</td>\n",
       "      <td>[Action, Animation]</td>\n",
       "    </tr>\n",
       "    <tr>\n",
       "      <th>15682</th>\n",
       "      <td>Batman: Under the Red Hood</td>\n",
       "      <td>2010</td>\n",
       "      <td>Brandon Vietti</td>\n",
       "      <td>[Bruce Greenwood, Jensen Ackles, Neil Patrick ...</td>\n",
       "      <td>[Action, Animation]</td>\n",
       "    </tr>\n",
       "    <tr>\n",
       "      <th>43142</th>\n",
       "      <td>The Lego Batman Movie</td>\n",
       "      <td>2017</td>\n",
       "      <td>Chris McKay</td>\n",
       "      <td>[Will Arnett, Zach Galifianakis, Michael Cera]</td>\n",
       "      <td>[Action, Animation, Comedy]</td>\n",
       "    </tr>\n",
       "    <tr>\n",
       "      <th>18442</th>\n",
       "      <td>The Dark Knight Rises</td>\n",
       "      <td>2012</td>\n",
       "      <td>Christopher Nolan</td>\n",
       "      <td>[Christian Bale, Michael Caine, Gary Oldman]</td>\n",
       "      <td>[Action, Crime, Drama]</td>\n",
       "    </tr>\n",
       "    <tr>\n",
       "      <th>20435</th>\n",
       "      <td>Batman: The Dark Knight Returns, Part 2</td>\n",
       "      <td>2013</td>\n",
       "      <td>Jay Oliva</td>\n",
       "      <td>[Peter Weller, Ariel Winter, David Selby]</td>\n",
       "      <td>[Action, Animation]</td>\n",
       "    </tr>\n",
       "    <tr>\n",
       "      <th>18225</th>\n",
       "      <td>Batman: Year One</td>\n",
       "      <td>2011</td>\n",
       "      <td>Lauren Montgomery</td>\n",
       "      <td>[Ben McKenzie, Bryan Cranston, Eliza Dushku]</td>\n",
       "      <td>[Action, Adventure, Animation]</td>\n",
       "    </tr>\n",
       "    <tr>\n",
       "      <th>14473</th>\n",
       "      <td>Law Abiding Citizen</td>\n",
       "      <td>2009</td>\n",
       "      <td>F. Gary Gray</td>\n",
       "      <td>[Jamie Foxx, Gerard Butler, Colm Meaney]</td>\n",
       "      <td>[Drama, Crime, Thriller]</td>\n",
       "    </tr>\n",
       "    <tr>\n",
       "      <th>22219</th>\n",
       "      <td>The Super Cops</td>\n",
       "      <td>1974</td>\n",
       "      <td>Gordon Parks</td>\n",
       "      <td>[Ron Leibman, David Selby, Sheila Frazier]</td>\n",
       "      <td>[Drama, Comedy, Action]</td>\n",
       "    </tr>\n",
       "  </tbody>\n",
       "</table>\n",
       "</div>"
      ],
      "text/plain": [
       "                                         title  year           director  \\\n",
       "18448       Sherlock Holmes: A Game of Shadows  2011        Guy Ritchie   \n",
       "10210                            Batman Begins  2005  Christopher Nolan   \n",
       "19981  Batman: The Dark Knight Returns, Part 1  2012          Jay Oliva   \n",
       "15682               Batman: Under the Red Hood  2010     Brandon Vietti   \n",
       "43142                    The Lego Batman Movie  2017        Chris McKay   \n",
       "18442                    The Dark Knight Rises  2012  Christopher Nolan   \n",
       "20435  Batman: The Dark Knight Returns, Part 2  2013          Jay Oliva   \n",
       "18225                         Batman: Year One  2011  Lauren Montgomery   \n",
       "14473                      Law Abiding Citizen  2009       F. Gary Gray   \n",
       "22219                           The Super Cops  1974       Gordon Parks   \n",
       "\n",
       "                                             top3_actors  \\\n",
       "18448        [Robert Downey Jr., Jude Law, Jared Harris]   \n",
       "10210       [Christian Bale, Michael Caine, Liam Neeson]   \n",
       "19981          [Peter Weller, Ariel Winter, David Selby]   \n",
       "15682  [Bruce Greenwood, Jensen Ackles, Neil Patrick ...   \n",
       "43142     [Will Arnett, Zach Galifianakis, Michael Cera]   \n",
       "18442       [Christian Bale, Michael Caine, Gary Oldman]   \n",
       "20435          [Peter Weller, Ariel Winter, David Selby]   \n",
       "18225       [Ben McKenzie, Bryan Cranston, Eliza Dushku]   \n",
       "14473           [Jamie Foxx, Gerard Butler, Colm Meaney]   \n",
       "22219         [Ron Leibman, David Selby, Sheila Frazier]   \n",
       "\n",
       "                              genres1  \n",
       "18448      [Adventure, Action, Crime]  \n",
       "10210          [Action, Crime, Drama]  \n",
       "19981             [Action, Animation]  \n",
       "15682             [Action, Animation]  \n",
       "43142     [Action, Animation, Comedy]  \n",
       "18442          [Action, Crime, Drama]  \n",
       "20435             [Action, Animation]  \n",
       "18225  [Action, Adventure, Animation]  \n",
       "14473        [Drama, Crime, Thriller]  \n",
       "22219         [Drama, Comedy, Action]  "
      ]
     },
     "execution_count": 204,
     "metadata": {},
     "output_type": "execute_result"
    }
   ],
   "source": [
    "hybrid(2,'The Dark Knight') # For viewer id 2, recommend movies that are similar to the 'The Dark Knight'"
   ]
  },
  {
   "cell_type": "markdown",
   "metadata": {},
   "source": [
    "Now we have built a recommender that personalizes recommendation for each viewer based on their ratings of other movies and based on similarity of other viewers' ratings."
   ]
  },
  {
   "cell_type": "markdown",
   "metadata": {},
   "source": [
    "### References"
   ]
  },
  {
   "cell_type": "markdown",
   "metadata": {},
   "source": [
    "Refering to the following work done on kaggle was very helpful\n",
    "1. https://www.kaggle.com/code/rounakbanik/movie-recommender-systems/notebook\n",
    "2. https://www.kaggle.com/code/ibtesama/getting-started-with-a-movie-recommendation-system"
   ]
  },
  {
   "cell_type": "code",
   "execution_count": null,
   "metadata": {},
   "outputs": [],
   "source": []
  }
 ],
 "metadata": {
  "kernelspec": {
   "display_name": "Python 3 (ipykernel)",
   "language": "python",
   "name": "python3"
  },
  "language_info": {
   "codemirror_mode": {
    "name": "ipython",
    "version": 3
   },
   "file_extension": ".py",
   "mimetype": "text/x-python",
   "name": "python",
   "nbconvert_exporter": "python",
   "pygments_lexer": "ipython3",
   "version": "3.7.12"
  }
 },
 "nbformat": 4,
 "nbformat_minor": 4
}
